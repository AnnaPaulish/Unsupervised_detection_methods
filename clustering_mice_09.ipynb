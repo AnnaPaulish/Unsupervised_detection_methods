{
 "cells": [
  {
   "cell_type": "code",
   "execution_count": 1,
   "id": "3ae6e8c8-d62a-4b4d-950c-3a10e9839163",
   "metadata": {},
   "outputs": [],
   "source": [
    "import numpy as np\n",
    "import pandas as pd\n",
    "import matplotlib.pyplot as plt"
   ]
  },
  {
   "cell_type": "code",
   "execution_count": 2,
   "id": "3fd24a9c",
   "metadata": {},
   "outputs": [],
   "source": [
    "def read_data(url, header):\n",
    "    df = pd.read_csv(url, header=header, index_col=0)\n",
    "    return df"
   ]
  },
  {
   "cell_type": "code",
   "execution_count": 3,
   "id": "ba0955fa",
   "metadata": {},
   "outputs": [],
   "source": [
    "def add_noise(df,scorer,bodypart,coord,n):\n",
    "    df.loc[filenames[:n],(scorer, bodypart, coord)] = df.loc[filenames[:n],(scorer, bodypart, coord)] + np.random.normal(0,1,n)\n",
    "    return df"
   ]
  },
  {
   "cell_type": "code",
   "execution_count": 4,
   "id": "008ef7e5",
   "metadata": {},
   "outputs": [],
   "source": [
    "def swap_ears(df,df_fake,scorer,n):\n",
    "    df_fake.loc[filenames[:n],(scorer, 'leftear', 'x')] = df.loc[filenames[:n],(scorer, 'rightear', 'x')]\n",
    "    df_fake.loc[filenames[:n],(scorer, 'leftear', 'y')] = df.loc[filenames[:n],(scorer, 'rightear', 'y')]\n",
    "    \n",
    "    df_fake.loc[filenames[:n],(scorer, 'rightear', 'x')] = df.loc[filenames[:n],(scorer, 'leftear', 'x')]\n",
    "    df_fake.loc[filenames[:n],(scorer, 'rightear', 'y')] = df.loc[filenames[:n],(scorer, 'leftear', 'y')]\n",
    "    return df_fake"
   ]
  },
  {
   "cell_type": "code",
   "execution_count": 5,
   "id": "6a27a051",
   "metadata": {},
   "outputs": [],
   "source": [
    "def comp_dist(features,df, scorer, bodypart1, bodypart2):\n",
    "    name = bodypart1 + '_' + bodypart2\n",
    "    features[name] = np.sqrt(np.square(df[scorer,bodypart1, 'x'] - df[scorer,bodypart2, 'x'])+np.square(df[scorer,bodypart1, 'y'] - df[scorer, bodypart2, 'y']))\n",
    "    \n",
    "    return features"
   ]
  },
  {
   "cell_type": "code",
   "execution_count": 6,
   "id": "fb439d30",
   "metadata": {},
   "outputs": [],
   "source": [
    "# calculate the angle sign between 3 keypoints (if negative, swapping might have occured)\n",
    "def get_angle(name,features,df, scorer, bodypart3, bodypart2, bodypart1):\n",
    "    features[name] = np.degrees(np.arctan2(df[scorer, bodypart3, 'y']-df[scorer,bodypart2, 'y'],df[scorer, bodypart3, 'x']-df[scorer,bodypart2, 'x']) - np.arctan2(df[scorer, bodypart1, 'y']-df[scorer,bodypart2, 'y'],df[scorer, bodypart1, 'x']-df[scorer,bodypart2, 'x']))\n",
    "    return features"
   ]
  },
  {
   "cell_type": "code",
   "execution_count": 7,
   "id": "b4bbe0d2",
   "metadata": {},
   "outputs": [],
   "source": [
    "# calculate the angle sign between 3 keypoints (if negative, swapping might have occured)\n",
    "def get_anglesign(name,features,df, scorer, bodypart3, bodypart2, bodypart1):\n",
    "    features[name] = np.sign(np.degrees(np.arctan2(df[scorer, bodypart3, 'y']-df[scorer,bodypart2, 'y'],df[scorer, bodypart3, 'x']-df[scorer,bodypart2, 'x']) - np.arctan2(df[scorer, bodypart1, 'y']-df[scorer,bodypart2, 'y'],df[scorer, bodypart1, 'x']-df[scorer,bodypart2, 'x'])))\n",
    "    return features"
   ]
  },
  {
   "cell_type": "code",
   "execution_count": 243,
   "id": "22f99d90",
   "metadata": {},
   "outputs": [],
   "source": [
    "# plot indices\n",
    "def plot_ind(df,labels,cluster_n):\n",
    "    x = df.loc[(labels==cluster_n),0]\n",
    "    y = df.loc[(labels==cluster_n),1]\n",
    "    for i in range(df.shape[0]):\n",
    "        if(labels[i]==cluster_n):\n",
    "            plt.text(x[i]+0.1,y[i],i)\n",
    "    return "
   ]
  },
  {
   "cell_type": "code",
   "execution_count": 8,
   "id": "5fe0fec9",
   "metadata": {},
   "outputs": [
    {
     "data": {
      "text/html": [
       "<div>\n",
       "<style scoped>\n",
       "    .dataframe tbody tr th:only-of-type {\n",
       "        vertical-align: middle;\n",
       "    }\n",
       "\n",
       "    .dataframe tbody tr th {\n",
       "        vertical-align: top;\n",
       "    }\n",
       "\n",
       "    .dataframe thead tr th {\n",
       "        text-align: left;\n",
       "    }\n",
       "</style>\n",
       "<table border=\"1\" class=\"dataframe\">\n",
       "  <thead>\n",
       "    <tr>\n",
       "      <th>scorer</th>\n",
       "      <th colspan=\"8\" halign=\"left\">Pranav</th>\n",
       "    </tr>\n",
       "    <tr>\n",
       "      <th>bodyparts</th>\n",
       "      <th colspan=\"2\" halign=\"left\">snout</th>\n",
       "      <th colspan=\"2\" halign=\"left\">leftear</th>\n",
       "      <th colspan=\"2\" halign=\"left\">rightear</th>\n",
       "      <th colspan=\"2\" halign=\"left\">tailbase</th>\n",
       "    </tr>\n",
       "    <tr>\n",
       "      <th>coords</th>\n",
       "      <th>x</th>\n",
       "      <th>y</th>\n",
       "      <th>x</th>\n",
       "      <th>y</th>\n",
       "      <th>x</th>\n",
       "      <th>y</th>\n",
       "      <th>x</th>\n",
       "      <th>y</th>\n",
       "    </tr>\n",
       "  </thead>\n",
       "  <tbody>\n",
       "    <tr>\n",
       "      <th>labeled-data/m4s1/img0000.png</th>\n",
       "      <td>21.521</td>\n",
       "      <td>265.428</td>\n",
       "      <td>33.819</td>\n",
       "      <td>265.941</td>\n",
       "      <td>19.984</td>\n",
       "      <td>250.056</td>\n",
       "      <td>87.110</td>\n",
       "      <td>152.698</td>\n",
       "    </tr>\n",
       "    <tr>\n",
       "      <th>labeled-data/m4s1/img0001.png</th>\n",
       "      <td>10.248</td>\n",
       "      <td>288.487</td>\n",
       "      <td>19.984</td>\n",
       "      <td>297.198</td>\n",
       "      <td>12.298</td>\n",
       "      <td>281.313</td>\n",
       "      <td>95.821</td>\n",
       "      <td>221.361</td>\n",
       "    </tr>\n",
       "    <tr>\n",
       "      <th>labeled-data/m4s1/img0002.png</th>\n",
       "      <td>24.596</td>\n",
       "      <td>354.075</td>\n",
       "      <td>38.431</td>\n",
       "      <td>354.075</td>\n",
       "      <td>23.058</td>\n",
       "      <td>337.166</td>\n",
       "      <td>99.408</td>\n",
       "      <td>256.205</td>\n",
       "    </tr>\n",
       "    <tr>\n",
       "      <th>labeled-data/m4s1/img0003.png</th>\n",
       "      <td>73.787</td>\n",
       "      <td>374.572</td>\n",
       "      <td>78.911</td>\n",
       "      <td>366.373</td>\n",
       "      <td>57.390</td>\n",
       "      <td>361.761</td>\n",
       "      <td>106.581</td>\n",
       "      <td>270.040</td>\n",
       "    </tr>\n",
       "    <tr>\n",
       "      <th>labeled-data/m4s1/img0004.png</th>\n",
       "      <td>38.431</td>\n",
       "      <td>333.066</td>\n",
       "      <td>50.729</td>\n",
       "      <td>341.777</td>\n",
       "      <td>39.968</td>\n",
       "      <td>323.331</td>\n",
       "      <td>131.177</td>\n",
       "      <td>273.627</td>\n",
       "    </tr>\n",
       "    <tr>\n",
       "      <th>...</th>\n",
       "      <td>...</td>\n",
       "      <td>...</td>\n",
       "      <td>...</td>\n",
       "      <td>...</td>\n",
       "      <td>...</td>\n",
       "      <td>...</td>\n",
       "      <td>...</td>\n",
       "      <td>...</td>\n",
       "    </tr>\n",
       "    <tr>\n",
       "      <th>labeled-data/m4s1/img0111.png</th>\n",
       "      <td>30.745</td>\n",
       "      <td>65.588</td>\n",
       "      <td>35.356</td>\n",
       "      <td>79.424</td>\n",
       "      <td>42.530</td>\n",
       "      <td>60.977</td>\n",
       "      <td>138.863</td>\n",
       "      <td>97.870</td>\n",
       "    </tr>\n",
       "    <tr>\n",
       "      <th>labeled-data/m4s1/img0112.png</th>\n",
       "      <td>29.207</td>\n",
       "      <td>104.532</td>\n",
       "      <td>36.894</td>\n",
       "      <td>109.143</td>\n",
       "      <td>36.894</td>\n",
       "      <td>89.672</td>\n",
       "      <td>143.987</td>\n",
       "      <td>89.159</td>\n",
       "    </tr>\n",
       "    <tr>\n",
       "      <th>labeled-data/m4s1/img0113.png</th>\n",
       "      <td>30.232</td>\n",
       "      <td>188.567</td>\n",
       "      <td>39.968</td>\n",
       "      <td>181.393</td>\n",
       "      <td>27.670</td>\n",
       "      <td>167.046</td>\n",
       "      <td>112.218</td>\n",
       "      <td>96.845</td>\n",
       "    </tr>\n",
       "    <tr>\n",
       "      <th>labeled-data/m4s1/img0114.png</th>\n",
       "      <td>26.645</td>\n",
       "      <td>262.354</td>\n",
       "      <td>38.431</td>\n",
       "      <td>262.354</td>\n",
       "      <td>24.596</td>\n",
       "      <td>248.519</td>\n",
       "      <td>84.548</td>\n",
       "      <td>155.773</td>\n",
       "    </tr>\n",
       "    <tr>\n",
       "      <th>labeled-data/m4s1/img0115.png</th>\n",
       "      <td>65.588</td>\n",
       "      <td>321.281</td>\n",
       "      <td>72.250</td>\n",
       "      <td>312.058</td>\n",
       "      <td>52.778</td>\n",
       "      <td>306.934</td>\n",
       "      <td>92.746</td>\n",
       "      <td>192.154</td>\n",
       "    </tr>\n",
       "  </tbody>\n",
       "</table>\n",
       "<p>116 rows × 8 columns</p>\n",
       "</div>"
      ],
      "text/plain": [
       "scorer                         Pranav                                     \\\n",
       "bodyparts                       snout          leftear          rightear   \n",
       "coords                              x        y       x        y        x   \n",
       "labeled-data/m4s1/img0000.png  21.521  265.428  33.819  265.941   19.984   \n",
       "labeled-data/m4s1/img0001.png  10.248  288.487  19.984  297.198   12.298   \n",
       "labeled-data/m4s1/img0002.png  24.596  354.075  38.431  354.075   23.058   \n",
       "labeled-data/m4s1/img0003.png  73.787  374.572  78.911  366.373   57.390   \n",
       "labeled-data/m4s1/img0004.png  38.431  333.066  50.729  341.777   39.968   \n",
       "...                               ...      ...     ...      ...      ...   \n",
       "labeled-data/m4s1/img0111.png  30.745   65.588  35.356   79.424   42.530   \n",
       "labeled-data/m4s1/img0112.png  29.207  104.532  36.894  109.143   36.894   \n",
       "labeled-data/m4s1/img0113.png  30.232  188.567  39.968  181.393   27.670   \n",
       "labeled-data/m4s1/img0114.png  26.645  262.354  38.431  262.354   24.596   \n",
       "labeled-data/m4s1/img0115.png  65.588  321.281  72.250  312.058   52.778   \n",
       "\n",
       "scorer                                                    \n",
       "bodyparts                              tailbase           \n",
       "coords                               y        x        y  \n",
       "labeled-data/m4s1/img0000.png  250.056   87.110  152.698  \n",
       "labeled-data/m4s1/img0001.png  281.313   95.821  221.361  \n",
       "labeled-data/m4s1/img0002.png  337.166   99.408  256.205  \n",
       "labeled-data/m4s1/img0003.png  361.761  106.581  270.040  \n",
       "labeled-data/m4s1/img0004.png  323.331  131.177  273.627  \n",
       "...                                ...      ...      ...  \n",
       "labeled-data/m4s1/img0111.png   60.977  138.863   97.870  \n",
       "labeled-data/m4s1/img0112.png   89.672  143.987   89.159  \n",
       "labeled-data/m4s1/img0113.png  167.046  112.218   96.845  \n",
       "labeled-data/m4s1/img0114.png  248.519   84.548  155.773  \n",
       "labeled-data/m4s1/img0115.png  306.934   92.746  192.154  \n",
       "\n",
       "[116 rows x 8 columns]"
      ]
     },
     "execution_count": 8,
     "metadata": {},
     "output_type": "execute_result"
    }
   ],
   "source": [
    "filename = 'https://raw.githubusercontent.com/DeepLabCut/DeepLabCut/master/examples/openfield-Pranav-2018-10-30/labeled-data/m4s1/CollectedData_Pranav.csv'\n",
    "header = [0, 1, 2] ### if multi-animal project, header = [0, 1, 2, 3]\n",
    "\n",
    "df = read_data(filename, header)\n",
    "df"
   ]
  },
  {
   "cell_type": "code",
   "execution_count": 86,
   "id": "078c7ba5",
   "metadata": {},
   "outputs": [],
   "source": [
    "filenames = df.index\n",
    "scorer = 'Pranav'\n",
    "bodypart = 'snout'\n",
    "n = 5 # 5 pictures with fake labels"
   ]
  },
  {
   "cell_type": "code",
   "execution_count": 87,
   "id": "0fb21146",
   "metadata": {},
   "outputs": [
    {
     "data": {
      "text/html": [
       "<div>\n",
       "<style scoped>\n",
       "    .dataframe tbody tr th:only-of-type {\n",
       "        vertical-align: middle;\n",
       "    }\n",
       "\n",
       "    .dataframe tbody tr th {\n",
       "        vertical-align: top;\n",
       "    }\n",
       "\n",
       "    .dataframe thead th {\n",
       "        text-align: right;\n",
       "    }\n",
       "</style>\n",
       "<table border=\"1\" class=\"dataframe\">\n",
       "  <thead>\n",
       "    <tr style=\"text-align: right;\">\n",
       "      <th></th>\n",
       "      <th>leftear_rightear</th>\n",
       "      <th>snout_tailbase</th>\n",
       "      <th>snout_leftear</th>\n",
       "      <th>snout_rightear</th>\n",
       "      <th>tailbase_leftear</th>\n",
       "      <th>tailbase_rightear</th>\n",
       "    </tr>\n",
       "  </thead>\n",
       "  <tbody>\n",
       "    <tr>\n",
       "      <th>labeled-data/m4s1/img0000.png</th>\n",
       "      <td>21.065148</td>\n",
       "      <td>130.422275</td>\n",
       "      <td>12.308695</td>\n",
       "      <td>15.448649</td>\n",
       "      <td>125.155534</td>\n",
       "      <td>118.255994</td>\n",
       "    </tr>\n",
       "    <tr>\n",
       "      <th>labeled-data/m4s1/img0001.png</th>\n",
       "      <td>17.646751</td>\n",
       "      <td>108.759543</td>\n",
       "      <td>13.064119</td>\n",
       "      <td>7.461151</td>\n",
       "      <td>107.249714</td>\n",
       "      <td>102.812129</td>\n",
       "    </tr>\n",
       "    <tr>\n",
       "      <th>labeled-data/m4s1/img0002.png</th>\n",
       "      <td>22.852646</td>\n",
       "      <td>123.188361</td>\n",
       "      <td>13.835000</td>\n",
       "      <td>16.978802</td>\n",
       "      <td>115.311454</td>\n",
       "      <td>111.283449</td>\n",
       "    </tr>\n",
       "    <tr>\n",
       "      <th>labeled-data/m4s1/img0003.png</th>\n",
       "      <td>22.009634</td>\n",
       "      <td>109.555399</td>\n",
       "      <td>9.668453</td>\n",
       "      <td>20.808251</td>\n",
       "      <td>100.228119</td>\n",
       "      <td>104.079279</td>\n",
       "    </tr>\n",
       "    <tr>\n",
       "      <th>labeled-data/m4s1/img0004.png</th>\n",
       "      <td>21.355422</td>\n",
       "      <td>110.158137</td>\n",
       "      <td>15.070578</td>\n",
       "      <td>9.855587</td>\n",
       "      <td>105.433881</td>\n",
       "      <td>103.872852</td>\n",
       "    </tr>\n",
       "  </tbody>\n",
       "</table>\n",
       "</div>"
      ],
      "text/plain": [
       "                               leftear_rightear  snout_tailbase  \\\n",
       "labeled-data/m4s1/img0000.png         21.065148      130.422275   \n",
       "labeled-data/m4s1/img0001.png         17.646751      108.759543   \n",
       "labeled-data/m4s1/img0002.png         22.852646      123.188361   \n",
       "labeled-data/m4s1/img0003.png         22.009634      109.555399   \n",
       "labeled-data/m4s1/img0004.png         21.355422      110.158137   \n",
       "\n",
       "                               snout_leftear  snout_rightear  \\\n",
       "labeled-data/m4s1/img0000.png      12.308695       15.448649   \n",
       "labeled-data/m4s1/img0001.png      13.064119        7.461151   \n",
       "labeled-data/m4s1/img0002.png      13.835000       16.978802   \n",
       "labeled-data/m4s1/img0003.png       9.668453       20.808251   \n",
       "labeled-data/m4s1/img0004.png      15.070578        9.855587   \n",
       "\n",
       "                               tailbase_leftear  tailbase_rightear  \n",
       "labeled-data/m4s1/img0000.png        125.155534         118.255994  \n",
       "labeled-data/m4s1/img0001.png        107.249714         102.812129  \n",
       "labeled-data/m4s1/img0002.png        115.311454         111.283449  \n",
       "labeled-data/m4s1/img0003.png        100.228119         104.079279  \n",
       "labeled-data/m4s1/img0004.png        105.433881         103.872852  "
      ]
     },
     "execution_count": 87,
     "metadata": {},
     "output_type": "execute_result"
    }
   ],
   "source": [
    "df_features = pd.DataFrame()\n",
    "\n",
    "df_features = comp_dist(df_features,df, scorer,'leftear', 'rightear')\n",
    "df_features = comp_dist(df_features,df, scorer,'snout', 'tailbase')\n",
    "\n",
    "df_features = comp_dist(df_features,df, scorer,'snout', 'leftear')\n",
    "df_features = comp_dist(df_features,df, scorer,'snout', 'rightear')\n",
    "\n",
    "df_features = comp_dist(df_features,df, scorer,'tailbase', 'leftear')\n",
    "df_features = comp_dist(df_features,df, scorer,'tailbase', 'rightear')\n",
    "\n",
    "df_features.head()"
   ]
  },
  {
   "cell_type": "code",
   "execution_count": 88,
   "id": "dac91493",
   "metadata": {},
   "outputs": [
    {
     "data": {
      "text/html": [
       "<div>\n",
       "<style scoped>\n",
       "    .dataframe tbody tr th:only-of-type {\n",
       "        vertical-align: middle;\n",
       "    }\n",
       "\n",
       "    .dataframe tbody tr th {\n",
       "        vertical-align: top;\n",
       "    }\n",
       "\n",
       "    .dataframe thead th {\n",
       "        text-align: right;\n",
       "    }\n",
       "</style>\n",
       "<table border=\"1\" class=\"dataframe\">\n",
       "  <thead>\n",
       "    <tr style=\"text-align: right;\">\n",
       "      <th></th>\n",
       "      <th>leftear_rightear</th>\n",
       "      <th>snout_tailbase</th>\n",
       "      <th>snout_leftear</th>\n",
       "      <th>snout_rightear</th>\n",
       "      <th>tailbase_leftear</th>\n",
       "      <th>tailbase_rightear</th>\n",
       "      <th>anglesign</th>\n",
       "    </tr>\n",
       "  </thead>\n",
       "  <tbody>\n",
       "    <tr>\n",
       "      <th>labeled-data/m4s1/img0000.png</th>\n",
       "      <td>21.065148</td>\n",
       "      <td>130.422275</td>\n",
       "      <td>12.308695</td>\n",
       "      <td>15.448649</td>\n",
       "      <td>125.155534</td>\n",
       "      <td>118.255994</td>\n",
       "      <td>1.0</td>\n",
       "    </tr>\n",
       "    <tr>\n",
       "      <th>labeled-data/m4s1/img0001.png</th>\n",
       "      <td>17.646751</td>\n",
       "      <td>108.759543</td>\n",
       "      <td>13.064119</td>\n",
       "      <td>7.461151</td>\n",
       "      <td>107.249714</td>\n",
       "      <td>102.812129</td>\n",
       "      <td>1.0</td>\n",
       "    </tr>\n",
       "    <tr>\n",
       "      <th>labeled-data/m4s1/img0002.png</th>\n",
       "      <td>22.852646</td>\n",
       "      <td>123.188361</td>\n",
       "      <td>13.835000</td>\n",
       "      <td>16.978802</td>\n",
       "      <td>115.311454</td>\n",
       "      <td>111.283449</td>\n",
       "      <td>1.0</td>\n",
       "    </tr>\n",
       "    <tr>\n",
       "      <th>labeled-data/m4s1/img0003.png</th>\n",
       "      <td>22.009634</td>\n",
       "      <td>109.555399</td>\n",
       "      <td>9.668453</td>\n",
       "      <td>20.808251</td>\n",
       "      <td>100.228119</td>\n",
       "      <td>104.079279</td>\n",
       "      <td>1.0</td>\n",
       "    </tr>\n",
       "    <tr>\n",
       "      <th>labeled-data/m4s1/img0004.png</th>\n",
       "      <td>21.355422</td>\n",
       "      <td>110.158137</td>\n",
       "      <td>15.070578</td>\n",
       "      <td>9.855587</td>\n",
       "      <td>105.433881</td>\n",
       "      <td>103.872852</td>\n",
       "      <td>1.0</td>\n",
       "    </tr>\n",
       "  </tbody>\n",
       "</table>\n",
       "</div>"
      ],
      "text/plain": [
       "                               leftear_rightear  snout_tailbase  \\\n",
       "labeled-data/m4s1/img0000.png         21.065148      130.422275   \n",
       "labeled-data/m4s1/img0001.png         17.646751      108.759543   \n",
       "labeled-data/m4s1/img0002.png         22.852646      123.188361   \n",
       "labeled-data/m4s1/img0003.png         22.009634      109.555399   \n",
       "labeled-data/m4s1/img0004.png         21.355422      110.158137   \n",
       "\n",
       "                               snout_leftear  snout_rightear  \\\n",
       "labeled-data/m4s1/img0000.png      12.308695       15.448649   \n",
       "labeled-data/m4s1/img0001.png      13.064119        7.461151   \n",
       "labeled-data/m4s1/img0002.png      13.835000       16.978802   \n",
       "labeled-data/m4s1/img0003.png       9.668453       20.808251   \n",
       "labeled-data/m4s1/img0004.png      15.070578        9.855587   \n",
       "\n",
       "                               tailbase_leftear  tailbase_rightear  anglesign  \n",
       "labeled-data/m4s1/img0000.png        125.155534         118.255994        1.0  \n",
       "labeled-data/m4s1/img0001.png        107.249714         102.812129        1.0  \n",
       "labeled-data/m4s1/img0002.png        115.311454         111.283449        1.0  \n",
       "labeled-data/m4s1/img0003.png        100.228119         104.079279        1.0  \n",
       "labeled-data/m4s1/img0004.png        105.433881         103.872852        1.0  "
      ]
     },
     "execution_count": 88,
     "metadata": {},
     "output_type": "execute_result"
    }
   ],
   "source": [
    "df_features = get_anglesign('anglesign',df_features,df, scorer, 'leftear', 'snout', 'rightear')\n",
    "df_features.head()"
   ]
  },
  {
   "cell_type": "code",
   "execution_count": 89,
   "id": "68273d08",
   "metadata": {},
   "outputs": [
    {
     "data": {
      "text/html": [
       "<div>\n",
       "<style scoped>\n",
       "    .dataframe tbody tr th:only-of-type {\n",
       "        vertical-align: middle;\n",
       "    }\n",
       "\n",
       "    .dataframe tbody tr th {\n",
       "        vertical-align: top;\n",
       "    }\n",
       "\n",
       "    .dataframe thead th {\n",
       "        text-align: right;\n",
       "    }\n",
       "</style>\n",
       "<table border=\"1\" class=\"dataframe\">\n",
       "  <thead>\n",
       "    <tr style=\"text-align: right;\">\n",
       "      <th></th>\n",
       "      <th>leftear_rightear</th>\n",
       "      <th>snout_tailbase</th>\n",
       "      <th>snout_leftear</th>\n",
       "      <th>snout_rightear</th>\n",
       "      <th>tailbase_leftear</th>\n",
       "      <th>tailbase_rightear</th>\n",
       "      <th>anglesign</th>\n",
       "      <th>angle</th>\n",
       "    </tr>\n",
       "  </thead>\n",
       "  <tbody>\n",
       "    <tr>\n",
       "      <th>labeled-data/m4s1/img0000.png</th>\n",
       "      <td>21.065148</td>\n",
       "      <td>130.422275</td>\n",
       "      <td>12.308695</td>\n",
       "      <td>15.448649</td>\n",
       "      <td>125.155534</td>\n",
       "      <td>118.255994</td>\n",
       "      <td>1.0</td>\n",
       "      <td>98.098512</td>\n",
       "    </tr>\n",
       "    <tr>\n",
       "      <th>labeled-data/m4s1/img0001.png</th>\n",
       "      <td>17.646751</td>\n",
       "      <td>108.759543</td>\n",
       "      <td>13.064119</td>\n",
       "      <td>7.461151</td>\n",
       "      <td>107.249714</td>\n",
       "      <td>102.812129</td>\n",
       "      <td>1.0</td>\n",
       "      <td>115.872148</td>\n",
       "    </tr>\n",
       "    <tr>\n",
       "      <th>labeled-data/m4s1/img0002.png</th>\n",
       "      <td>22.852646</td>\n",
       "      <td>123.188361</td>\n",
       "      <td>13.835000</td>\n",
       "      <td>16.978802</td>\n",
       "      <td>115.311454</td>\n",
       "      <td>111.283449</td>\n",
       "      <td>1.0</td>\n",
       "      <td>95.197179</td>\n",
       "    </tr>\n",
       "    <tr>\n",
       "      <th>labeled-data/m4s1/img0003.png</th>\n",
       "      <td>22.009634</td>\n",
       "      <td>109.555399</td>\n",
       "      <td>9.668453</td>\n",
       "      <td>20.808251</td>\n",
       "      <td>100.228119</td>\n",
       "      <td>104.079279</td>\n",
       "      <td>1.0</td>\n",
       "      <td>84.002935</td>\n",
       "    </tr>\n",
       "    <tr>\n",
       "      <th>labeled-data/m4s1/img0004.png</th>\n",
       "      <td>21.355422</td>\n",
       "      <td>110.158137</td>\n",
       "      <td>15.070578</td>\n",
       "      <td>9.855587</td>\n",
       "      <td>105.433881</td>\n",
       "      <td>103.872852</td>\n",
       "      <td>1.0</td>\n",
       "      <td>116.338933</td>\n",
       "    </tr>\n",
       "  </tbody>\n",
       "</table>\n",
       "</div>"
      ],
      "text/plain": [
       "                               leftear_rightear  snout_tailbase  \\\n",
       "labeled-data/m4s1/img0000.png         21.065148      130.422275   \n",
       "labeled-data/m4s1/img0001.png         17.646751      108.759543   \n",
       "labeled-data/m4s1/img0002.png         22.852646      123.188361   \n",
       "labeled-data/m4s1/img0003.png         22.009634      109.555399   \n",
       "labeled-data/m4s1/img0004.png         21.355422      110.158137   \n",
       "\n",
       "                               snout_leftear  snout_rightear  \\\n",
       "labeled-data/m4s1/img0000.png      12.308695       15.448649   \n",
       "labeled-data/m4s1/img0001.png      13.064119        7.461151   \n",
       "labeled-data/m4s1/img0002.png      13.835000       16.978802   \n",
       "labeled-data/m4s1/img0003.png       9.668453       20.808251   \n",
       "labeled-data/m4s1/img0004.png      15.070578        9.855587   \n",
       "\n",
       "                               tailbase_leftear  tailbase_rightear  anglesign  \\\n",
       "labeled-data/m4s1/img0000.png        125.155534         118.255994        1.0   \n",
       "labeled-data/m4s1/img0001.png        107.249714         102.812129        1.0   \n",
       "labeled-data/m4s1/img0002.png        115.311454         111.283449        1.0   \n",
       "labeled-data/m4s1/img0003.png        100.228119         104.079279        1.0   \n",
       "labeled-data/m4s1/img0004.png        105.433881         103.872852        1.0   \n",
       "\n",
       "                                    angle  \n",
       "labeled-data/m4s1/img0000.png   98.098512  \n",
       "labeled-data/m4s1/img0001.png  115.872148  \n",
       "labeled-data/m4s1/img0002.png   95.197179  \n",
       "labeled-data/m4s1/img0003.png   84.002935  \n",
       "labeled-data/m4s1/img0004.png  116.338933  "
      ]
     },
     "execution_count": 89,
     "metadata": {},
     "output_type": "execute_result"
    }
   ],
   "source": [
    "df_features = get_angle('angle',df_features,df, scorer, 'leftear', 'snout', 'rightear')\n",
    "df_features.head()"
   ]
  },
  {
   "cell_type": "code",
   "execution_count": 90,
   "id": "91f7530a",
   "metadata": {},
   "outputs": [
    {
     "name": "stdout",
     "output_type": "stream",
     "text": [
      "labeled-data/m4s1/img0036.png   -1.0\n",
      "labeled-data/m4s1/img0102.png   -1.0\n",
      "Name: anglesign, dtype: float64\n"
     ]
    }
   ],
   "source": [
    "(df_features['anglesign'] < 0).sum()\n",
    "print(df_features.loc[(df_features['anglesign'] < 0),'anglesign'])"
   ]
  },
  {
   "cell_type": "code",
   "execution_count": 91,
   "id": "cbeeff2e",
   "metadata": {},
   "outputs": [
    {
     "data": {
      "text/html": [
       "<div>\n",
       "<style scoped>\n",
       "    .dataframe tbody tr th:only-of-type {\n",
       "        vertical-align: middle;\n",
       "    }\n",
       "\n",
       "    .dataframe tbody tr th {\n",
       "        vertical-align: top;\n",
       "    }\n",
       "\n",
       "    .dataframe thead tr th {\n",
       "        text-align: left;\n",
       "    }\n",
       "</style>\n",
       "<table border=\"1\" class=\"dataframe\">\n",
       "  <thead>\n",
       "    <tr>\n",
       "      <th>scorer</th>\n",
       "      <th colspan=\"8\" halign=\"left\">Pranav</th>\n",
       "    </tr>\n",
       "    <tr>\n",
       "      <th>bodyparts</th>\n",
       "      <th colspan=\"2\" halign=\"left\">snout</th>\n",
       "      <th colspan=\"2\" halign=\"left\">leftear</th>\n",
       "      <th colspan=\"2\" halign=\"left\">rightear</th>\n",
       "      <th colspan=\"2\" halign=\"left\">tailbase</th>\n",
       "    </tr>\n",
       "    <tr>\n",
       "      <th>coords</th>\n",
       "      <th>x</th>\n",
       "      <th>y</th>\n",
       "      <th>x</th>\n",
       "      <th>y</th>\n",
       "      <th>x</th>\n",
       "      <th>y</th>\n",
       "      <th>x</th>\n",
       "      <th>y</th>\n",
       "    </tr>\n",
       "  </thead>\n",
       "  <tbody>\n",
       "    <tr>\n",
       "      <th>labeled-data/m4s1/img0000.png</th>\n",
       "      <td>21.521</td>\n",
       "      <td>265.428</td>\n",
       "      <td>19.984</td>\n",
       "      <td>250.056</td>\n",
       "      <td>33.819</td>\n",
       "      <td>265.941</td>\n",
       "      <td>87.110</td>\n",
       "      <td>152.698</td>\n",
       "    </tr>\n",
       "    <tr>\n",
       "      <th>labeled-data/m4s1/img0001.png</th>\n",
       "      <td>10.248</td>\n",
       "      <td>288.487</td>\n",
       "      <td>12.298</td>\n",
       "      <td>281.313</td>\n",
       "      <td>19.984</td>\n",
       "      <td>297.198</td>\n",
       "      <td>95.821</td>\n",
       "      <td>221.361</td>\n",
       "    </tr>\n",
       "    <tr>\n",
       "      <th>labeled-data/m4s1/img0002.png</th>\n",
       "      <td>24.596</td>\n",
       "      <td>354.075</td>\n",
       "      <td>23.058</td>\n",
       "      <td>337.166</td>\n",
       "      <td>38.431</td>\n",
       "      <td>354.075</td>\n",
       "      <td>99.408</td>\n",
       "      <td>256.205</td>\n",
       "    </tr>\n",
       "    <tr>\n",
       "      <th>labeled-data/m4s1/img0003.png</th>\n",
       "      <td>73.787</td>\n",
       "      <td>374.572</td>\n",
       "      <td>57.390</td>\n",
       "      <td>361.761</td>\n",
       "      <td>78.911</td>\n",
       "      <td>366.373</td>\n",
       "      <td>106.581</td>\n",
       "      <td>270.040</td>\n",
       "    </tr>\n",
       "    <tr>\n",
       "      <th>labeled-data/m4s1/img0004.png</th>\n",
       "      <td>38.431</td>\n",
       "      <td>333.066</td>\n",
       "      <td>39.968</td>\n",
       "      <td>323.331</td>\n",
       "      <td>50.729</td>\n",
       "      <td>341.777</td>\n",
       "      <td>131.177</td>\n",
       "      <td>273.627</td>\n",
       "    </tr>\n",
       "  </tbody>\n",
       "</table>\n",
       "</div>"
      ],
      "text/plain": [
       "scorer                         Pranav                                     \\\n",
       "bodyparts                       snout          leftear          rightear   \n",
       "coords                              x        y       x        y        x   \n",
       "labeled-data/m4s1/img0000.png  21.521  265.428  19.984  250.056   33.819   \n",
       "labeled-data/m4s1/img0001.png  10.248  288.487  12.298  281.313   19.984   \n",
       "labeled-data/m4s1/img0002.png  24.596  354.075  23.058  337.166   38.431   \n",
       "labeled-data/m4s1/img0003.png  73.787  374.572  57.390  361.761   78.911   \n",
       "labeled-data/m4s1/img0004.png  38.431  333.066  39.968  323.331   50.729   \n",
       "\n",
       "scorer                                                    \n",
       "bodyparts                              tailbase           \n",
       "coords                               y        x        y  \n",
       "labeled-data/m4s1/img0000.png  265.941   87.110  152.698  \n",
       "labeled-data/m4s1/img0001.png  297.198   95.821  221.361  \n",
       "labeled-data/m4s1/img0002.png  354.075   99.408  256.205  \n",
       "labeled-data/m4s1/img0003.png  366.373  106.581  270.040  \n",
       "labeled-data/m4s1/img0004.png  341.777  131.177  273.627  "
      ]
     },
     "execution_count": 91,
     "metadata": {},
     "output_type": "execute_result"
    }
   ],
   "source": [
    "#swap ears\n",
    "df_swap_ears = df.copy(deep=True)\n",
    "df_swap_ears = swap_ears(df,df_swap_ears,scorer,n)\n",
    "df_swap_ears.head()"
   ]
  },
  {
   "cell_type": "code",
   "execution_count": 298,
   "id": "1fa88c5e",
   "metadata": {},
   "outputs": [
    {
     "data": {
      "text/html": [
       "<div>\n",
       "<style scoped>\n",
       "    .dataframe tbody tr th:only-of-type {\n",
       "        vertical-align: middle;\n",
       "    }\n",
       "\n",
       "    .dataframe tbody tr th {\n",
       "        vertical-align: top;\n",
       "    }\n",
       "\n",
       "    .dataframe thead th {\n",
       "        text-align: right;\n",
       "    }\n",
       "</style>\n",
       "<table border=\"1\" class=\"dataframe\">\n",
       "  <thead>\n",
       "    <tr style=\"text-align: right;\">\n",
       "      <th></th>\n",
       "      <th>leftear_rightear</th>\n",
       "      <th>snout_tailbase</th>\n",
       "      <th>snout_leftear</th>\n",
       "      <th>snout_rightear</th>\n",
       "      <th>tailbase_leftear</th>\n",
       "      <th>tailbase_rightear</th>\n",
       "    </tr>\n",
       "  </thead>\n",
       "  <tbody>\n",
       "    <tr>\n",
       "      <th>labeled-data/m4s1/img0000.png</th>\n",
       "      <td>21.065148</td>\n",
       "      <td>130.422275</td>\n",
       "      <td>15.448649</td>\n",
       "      <td>12.308695</td>\n",
       "      <td>118.255994</td>\n",
       "      <td>125.155534</td>\n",
       "    </tr>\n",
       "    <tr>\n",
       "      <th>labeled-data/m4s1/img0001.png</th>\n",
       "      <td>17.646751</td>\n",
       "      <td>108.759543</td>\n",
       "      <td>7.461151</td>\n",
       "      <td>13.064119</td>\n",
       "      <td>102.812129</td>\n",
       "      <td>107.249714</td>\n",
       "    </tr>\n",
       "    <tr>\n",
       "      <th>labeled-data/m4s1/img0002.png</th>\n",
       "      <td>22.852646</td>\n",
       "      <td>123.188361</td>\n",
       "      <td>16.978802</td>\n",
       "      <td>13.835000</td>\n",
       "      <td>111.283449</td>\n",
       "      <td>115.311454</td>\n",
       "    </tr>\n",
       "    <tr>\n",
       "      <th>labeled-data/m4s1/img0003.png</th>\n",
       "      <td>22.009634</td>\n",
       "      <td>109.555399</td>\n",
       "      <td>20.808251</td>\n",
       "      <td>9.668453</td>\n",
       "      <td>104.079279</td>\n",
       "      <td>100.228119</td>\n",
       "    </tr>\n",
       "    <tr>\n",
       "      <th>labeled-data/m4s1/img0004.png</th>\n",
       "      <td>21.355422</td>\n",
       "      <td>110.158137</td>\n",
       "      <td>9.855587</td>\n",
       "      <td>15.070578</td>\n",
       "      <td>103.872852</td>\n",
       "      <td>105.433881</td>\n",
       "    </tr>\n",
       "  </tbody>\n",
       "</table>\n",
       "</div>"
      ],
      "text/plain": [
       "                               leftear_rightear  snout_tailbase  \\\n",
       "labeled-data/m4s1/img0000.png         21.065148      130.422275   \n",
       "labeled-data/m4s1/img0001.png         17.646751      108.759543   \n",
       "labeled-data/m4s1/img0002.png         22.852646      123.188361   \n",
       "labeled-data/m4s1/img0003.png         22.009634      109.555399   \n",
       "labeled-data/m4s1/img0004.png         21.355422      110.158137   \n",
       "\n",
       "                               snout_leftear  snout_rightear  \\\n",
       "labeled-data/m4s1/img0000.png      15.448649       12.308695   \n",
       "labeled-data/m4s1/img0001.png       7.461151       13.064119   \n",
       "labeled-data/m4s1/img0002.png      16.978802       13.835000   \n",
       "labeled-data/m4s1/img0003.png      20.808251        9.668453   \n",
       "labeled-data/m4s1/img0004.png       9.855587       15.070578   \n",
       "\n",
       "                               tailbase_leftear  tailbase_rightear  \n",
       "labeled-data/m4s1/img0000.png        118.255994         125.155534  \n",
       "labeled-data/m4s1/img0001.png        102.812129         107.249714  \n",
       "labeled-data/m4s1/img0002.png        111.283449         115.311454  \n",
       "labeled-data/m4s1/img0003.png        104.079279         100.228119  \n",
       "labeled-data/m4s1/img0004.png        103.872852         105.433881  "
      ]
     },
     "execution_count": 298,
     "metadata": {},
     "output_type": "execute_result"
    }
   ],
   "source": [
    "features_swapears = pd.DataFrame()\n",
    "\n",
    "features_swapears = comp_dist(features_swapears,df_swap_ears, scorer,'leftear', 'rightear')\n",
    "features_swapears = comp_dist(features_swapears,df_swap_ears, scorer,'snout', 'tailbase')\n",
    "\n",
    "features_swapears = comp_dist(features_swapears,df_swap_ears, scorer,'snout', 'leftear')\n",
    "features_swapears = comp_dist(features_swapears,df_swap_ears, scorer,'snout', 'rightear')\n",
    "\n",
    "features_swapears = comp_dist(features_swapears,df_swap_ears, scorer,'tailbase', 'leftear')\n",
    "features_swapears = comp_dist(features_swapears,df_swap_ears, scorer,'tailbase', 'rightear')\n",
    "\n",
    "features_swapears.head()"
   ]
  },
  {
   "cell_type": "code",
   "execution_count": 299,
   "id": "fa94a162",
   "metadata": {},
   "outputs": [
    {
     "data": {
      "text/html": [
       "<div>\n",
       "<style scoped>\n",
       "    .dataframe tbody tr th:only-of-type {\n",
       "        vertical-align: middle;\n",
       "    }\n",
       "\n",
       "    .dataframe tbody tr th {\n",
       "        vertical-align: top;\n",
       "    }\n",
       "\n",
       "    .dataframe thead th {\n",
       "        text-align: right;\n",
       "    }\n",
       "</style>\n",
       "<table border=\"1\" class=\"dataframe\">\n",
       "  <thead>\n",
       "    <tr style=\"text-align: right;\">\n",
       "      <th></th>\n",
       "      <th>leftear_rightear</th>\n",
       "      <th>snout_tailbase</th>\n",
       "      <th>snout_leftear</th>\n",
       "      <th>snout_rightear</th>\n",
       "      <th>tailbase_leftear</th>\n",
       "      <th>tailbase_rightear</th>\n",
       "      <th>anglesign</th>\n",
       "    </tr>\n",
       "  </thead>\n",
       "  <tbody>\n",
       "    <tr>\n",
       "      <th>labeled-data/m4s1/img0000.png</th>\n",
       "      <td>21.065148</td>\n",
       "      <td>130.422275</td>\n",
       "      <td>15.448649</td>\n",
       "      <td>12.308695</td>\n",
       "      <td>118.255994</td>\n",
       "      <td>125.155534</td>\n",
       "      <td>-1.0</td>\n",
       "    </tr>\n",
       "    <tr>\n",
       "      <th>labeled-data/m4s1/img0001.png</th>\n",
       "      <td>17.646751</td>\n",
       "      <td>108.759543</td>\n",
       "      <td>7.461151</td>\n",
       "      <td>13.064119</td>\n",
       "      <td>102.812129</td>\n",
       "      <td>107.249714</td>\n",
       "      <td>-1.0</td>\n",
       "    </tr>\n",
       "    <tr>\n",
       "      <th>labeled-data/m4s1/img0002.png</th>\n",
       "      <td>22.852646</td>\n",
       "      <td>123.188361</td>\n",
       "      <td>16.978802</td>\n",
       "      <td>13.835000</td>\n",
       "      <td>111.283449</td>\n",
       "      <td>115.311454</td>\n",
       "      <td>-1.0</td>\n",
       "    </tr>\n",
       "    <tr>\n",
       "      <th>labeled-data/m4s1/img0003.png</th>\n",
       "      <td>22.009634</td>\n",
       "      <td>109.555399</td>\n",
       "      <td>20.808251</td>\n",
       "      <td>9.668453</td>\n",
       "      <td>104.079279</td>\n",
       "      <td>100.228119</td>\n",
       "      <td>-1.0</td>\n",
       "    </tr>\n",
       "    <tr>\n",
       "      <th>labeled-data/m4s1/img0004.png</th>\n",
       "      <td>21.355422</td>\n",
       "      <td>110.158137</td>\n",
       "      <td>9.855587</td>\n",
       "      <td>15.070578</td>\n",
       "      <td>103.872852</td>\n",
       "      <td>105.433881</td>\n",
       "      <td>-1.0</td>\n",
       "    </tr>\n",
       "  </tbody>\n",
       "</table>\n",
       "</div>"
      ],
      "text/plain": [
       "                               leftear_rightear  snout_tailbase  \\\n",
       "labeled-data/m4s1/img0000.png         21.065148      130.422275   \n",
       "labeled-data/m4s1/img0001.png         17.646751      108.759543   \n",
       "labeled-data/m4s1/img0002.png         22.852646      123.188361   \n",
       "labeled-data/m4s1/img0003.png         22.009634      109.555399   \n",
       "labeled-data/m4s1/img0004.png         21.355422      110.158137   \n",
       "\n",
       "                               snout_leftear  snout_rightear  \\\n",
       "labeled-data/m4s1/img0000.png      15.448649       12.308695   \n",
       "labeled-data/m4s1/img0001.png       7.461151       13.064119   \n",
       "labeled-data/m4s1/img0002.png      16.978802       13.835000   \n",
       "labeled-data/m4s1/img0003.png      20.808251        9.668453   \n",
       "labeled-data/m4s1/img0004.png       9.855587       15.070578   \n",
       "\n",
       "                               tailbase_leftear  tailbase_rightear  anglesign  \n",
       "labeled-data/m4s1/img0000.png        118.255994         125.155534       -1.0  \n",
       "labeled-data/m4s1/img0001.png        102.812129         107.249714       -1.0  \n",
       "labeled-data/m4s1/img0002.png        111.283449         115.311454       -1.0  \n",
       "labeled-data/m4s1/img0003.png        104.079279         100.228119       -1.0  \n",
       "labeled-data/m4s1/img0004.png        103.872852         105.433881       -1.0  "
      ]
     },
     "execution_count": 299,
     "metadata": {},
     "output_type": "execute_result"
    }
   ],
   "source": [
    "features_swapears = get_anglesign('anglesign',features_swapears,df_swap_ears, scorer, 'leftear', 'snout', 'rightear')\n",
    "features_swapears.head()"
   ]
  },
  {
   "cell_type": "code",
   "execution_count": 300,
   "id": "6124dee7",
   "metadata": {},
   "outputs": [
    {
     "name": "stdout",
     "output_type": "stream",
     "text": [
      "7\n",
      "labeled-data/m4s1/img0000.png   -1.0\n",
      "labeled-data/m4s1/img0001.png   -1.0\n",
      "labeled-data/m4s1/img0002.png   -1.0\n",
      "labeled-data/m4s1/img0003.png   -1.0\n",
      "labeled-data/m4s1/img0004.png   -1.0\n",
      "labeled-data/m4s1/img0036.png   -1.0\n",
      "labeled-data/m4s1/img0102.png   -1.0\n",
      "Name: anglesign, dtype: float64\n"
     ]
    }
   ],
   "source": [
    "print((features_swapears['anglesign'] < 0).sum())\n",
    "print(features_swapears.loc[(features_swapears['anglesign'] < 0),'anglesign'])"
   ]
  },
  {
   "cell_type": "code",
   "execution_count": 319,
   "id": "3011fb72",
   "metadata": {},
   "outputs": [
    {
     "data": {
      "text/html": [
       "<div>\n",
       "<style scoped>\n",
       "    .dataframe tbody tr th:only-of-type {\n",
       "        vertical-align: middle;\n",
       "    }\n",
       "\n",
       "    .dataframe tbody tr th {\n",
       "        vertical-align: top;\n",
       "    }\n",
       "\n",
       "    .dataframe thead th {\n",
       "        text-align: right;\n",
       "    }\n",
       "</style>\n",
       "<table border=\"1\" class=\"dataframe\">\n",
       "  <thead>\n",
       "    <tr style=\"text-align: right;\">\n",
       "      <th></th>\n",
       "      <th>leftear_rightear</th>\n",
       "      <th>snout_tailbase</th>\n",
       "      <th>snout_leftear</th>\n",
       "      <th>snout_rightear</th>\n",
       "      <th>tailbase_leftear</th>\n",
       "      <th>tailbase_rightear</th>\n",
       "      <th>anglesign</th>\n",
       "      <th>angle</th>\n",
       "    </tr>\n",
       "  </thead>\n",
       "  <tbody>\n",
       "    <tr>\n",
       "      <th>labeled-data/m4s1/img0000.png</th>\n",
       "      <td>21.065148</td>\n",
       "      <td>130.422275</td>\n",
       "      <td>15.448649</td>\n",
       "      <td>12.308695</td>\n",
       "      <td>118.255994</td>\n",
       "      <td>125.155534</td>\n",
       "      <td>-1.0</td>\n",
       "      <td>-98.098512</td>\n",
       "    </tr>\n",
       "    <tr>\n",
       "      <th>labeled-data/m4s1/img0001.png</th>\n",
       "      <td>17.646751</td>\n",
       "      <td>108.759543</td>\n",
       "      <td>7.461151</td>\n",
       "      <td>13.064119</td>\n",
       "      <td>102.812129</td>\n",
       "      <td>107.249714</td>\n",
       "      <td>-1.0</td>\n",
       "      <td>-115.872148</td>\n",
       "    </tr>\n",
       "    <tr>\n",
       "      <th>labeled-data/m4s1/img0002.png</th>\n",
       "      <td>22.852646</td>\n",
       "      <td>123.188361</td>\n",
       "      <td>16.978802</td>\n",
       "      <td>13.835000</td>\n",
       "      <td>111.283449</td>\n",
       "      <td>115.311454</td>\n",
       "      <td>-1.0</td>\n",
       "      <td>-95.197179</td>\n",
       "    </tr>\n",
       "    <tr>\n",
       "      <th>labeled-data/m4s1/img0003.png</th>\n",
       "      <td>22.009634</td>\n",
       "      <td>109.555399</td>\n",
       "      <td>20.808251</td>\n",
       "      <td>9.668453</td>\n",
       "      <td>104.079279</td>\n",
       "      <td>100.228119</td>\n",
       "      <td>-1.0</td>\n",
       "      <td>-84.002935</td>\n",
       "    </tr>\n",
       "    <tr>\n",
       "      <th>labeled-data/m4s1/img0004.png</th>\n",
       "      <td>21.355422</td>\n",
       "      <td>110.158137</td>\n",
       "      <td>9.855587</td>\n",
       "      <td>15.070578</td>\n",
       "      <td>103.872852</td>\n",
       "      <td>105.433881</td>\n",
       "      <td>-1.0</td>\n",
       "      <td>-116.338933</td>\n",
       "    </tr>\n",
       "  </tbody>\n",
       "</table>\n",
       "</div>"
      ],
      "text/plain": [
       "                               leftear_rightear  snout_tailbase  \\\n",
       "labeled-data/m4s1/img0000.png         21.065148      130.422275   \n",
       "labeled-data/m4s1/img0001.png         17.646751      108.759543   \n",
       "labeled-data/m4s1/img0002.png         22.852646      123.188361   \n",
       "labeled-data/m4s1/img0003.png         22.009634      109.555399   \n",
       "labeled-data/m4s1/img0004.png         21.355422      110.158137   \n",
       "\n",
       "                               snout_leftear  snout_rightear  \\\n",
       "labeled-data/m4s1/img0000.png      15.448649       12.308695   \n",
       "labeled-data/m4s1/img0001.png       7.461151       13.064119   \n",
       "labeled-data/m4s1/img0002.png      16.978802       13.835000   \n",
       "labeled-data/m4s1/img0003.png      20.808251        9.668453   \n",
       "labeled-data/m4s1/img0004.png       9.855587       15.070578   \n",
       "\n",
       "                               tailbase_leftear  tailbase_rightear  anglesign  \\\n",
       "labeled-data/m4s1/img0000.png        118.255994         125.155534       -1.0   \n",
       "labeled-data/m4s1/img0001.png        102.812129         107.249714       -1.0   \n",
       "labeled-data/m4s1/img0002.png        111.283449         115.311454       -1.0   \n",
       "labeled-data/m4s1/img0003.png        104.079279         100.228119       -1.0   \n",
       "labeled-data/m4s1/img0004.png        103.872852         105.433881       -1.0   \n",
       "\n",
       "                                    angle  \n",
       "labeled-data/m4s1/img0000.png  -98.098512  \n",
       "labeled-data/m4s1/img0001.png -115.872148  \n",
       "labeled-data/m4s1/img0002.png  -95.197179  \n",
       "labeled-data/m4s1/img0003.png  -84.002935  \n",
       "labeled-data/m4s1/img0004.png -116.338933  "
      ]
     },
     "execution_count": 319,
     "metadata": {},
     "output_type": "execute_result"
    }
   ],
   "source": [
    "features_swapears = get_angle('angle',features_swapears,df_swap_ears, scorer, 'leftear', 'snout', 'rightear')\n",
    "features_swapears.head()"
   ]
  },
  {
   "cell_type": "code",
   "execution_count": 320,
   "id": "c6320ea1",
   "metadata": {},
   "outputs": [
    {
     "data": {
      "text/plain": [
       "(array([  5,   6,   7,   8,   9,  10,  11,  12,  13,  14,  15,  16,  17,\n",
       "         18,  19,  20,  21,  22,  23,  24,  25,  26,  27,  28,  29,  30,\n",
       "         31,  32,  33,  34,  35,  37,  38,  39,  40,  41,  42,  43,  44,\n",
       "         45,  46,  47,  48,  49,  50,  51,  52,  53,  54,  55,  56,  57,\n",
       "         58,  59,  60,  61,  62,  63,  64,  65,  66,  67,  68,  69,  70,\n",
       "         71,  72,  73,  74,  75,  76,  77,  78,  79,  80,  81,  82,  83,\n",
       "         84,  85,  86,  87,  88,  89,  90,  91,  92,  93,  94,  95,  96,\n",
       "         97,  98,  99, 100, 101, 103, 104, 105, 106, 107, 108, 109, 110,\n",
       "        111, 112, 113, 114, 115], dtype=int64),)"
      ]
     },
     "execution_count": 320,
     "metadata": {},
     "output_type": "execute_result"
    }
   ],
   "source": [
    "np.where((features_swapears['anglesign'] > 0))"
   ]
  },
  {
   "cell_type": "code",
   "execution_count": 321,
   "id": "b9e8212c",
   "metadata": {},
   "outputs": [
    {
     "data": {
      "image/png": "[encoded data removed]",
      "text/plain": [
       "<Figure size 432x288 with 1 Axes>"
      ]
     },
     "metadata": {
      "needs_background": "light"
     },
     "output_type": "display_data"
    }
   ],
   "source": [
    "names_data = np.where((features_swapears['anglesign'] > 0))\n",
    "names_outliers = np.where((features_swapears['anglesign'] < 0))\n",
    "plt.scatter(names_data, features_swapears.loc[(features_swapears['anglesign'] > 0),'angle'], alpha=.3, color='green')\n",
    "plt.scatter(names_outliers, features_swapears.loc[(features_swapears['anglesign'] < 0),'angle'], color='red')\n",
    "plt.xlabel('number')\n",
    "plt.ylabel('angle')\n",
    "plt.show()"
   ]
  },
  {
   "cell_type": "code",
   "execution_count": 342,
   "id": "a469eb61",
   "metadata": {},
   "outputs": [
    {
     "data": {
      "text/html": [
       "<div>\n",
       "<style scoped>\n",
       "    .dataframe tbody tr th:only-of-type {\n",
       "        vertical-align: middle;\n",
       "    }\n",
       "\n",
       "    .dataframe tbody tr th {\n",
       "        vertical-align: top;\n",
       "    }\n",
       "\n",
       "    .dataframe thead th {\n",
       "        text-align: right;\n",
       "    }\n",
       "</style>\n",
       "<table border=\"1\" class=\"dataframe\">\n",
       "  <thead>\n",
       "    <tr style=\"text-align: right;\">\n",
       "      <th></th>\n",
       "      <th>leftear_rightear</th>\n",
       "      <th>snout_tailbase</th>\n",
       "      <th>snout_leftear</th>\n",
       "      <th>snout_rightear</th>\n",
       "      <th>tailbase_leftear</th>\n",
       "      <th>tailbase_rightear</th>\n",
       "      <th>anglesign</th>\n",
       "      <th>angle</th>\n",
       "    </tr>\n",
       "  </thead>\n",
       "  <tbody>\n",
       "    <tr>\n",
       "      <th>0</th>\n",
       "      <td>0.570611</td>\n",
       "      <td>1.565317</td>\n",
       "      <td>0.058997</td>\n",
       "      <td>-0.113856</td>\n",
       "      <td>1.206159</td>\n",
       "      <td>2.390873</td>\n",
       "      <td>-3.946065</td>\n",
       "      <td>-3.561668</td>\n",
       "    </tr>\n",
       "    <tr>\n",
       "      <th>1</th>\n",
       "      <td>-0.954158</td>\n",
       "      <td>-1.235496</td>\n",
       "      <td>-1.319880</td>\n",
       "      <td>0.068274</td>\n",
       "      <td>-1.195405</td>\n",
       "      <td>-0.531509</td>\n",
       "      <td>-3.946065</td>\n",
       "      <td>-3.917617</td>\n",
       "    </tr>\n",
       "    <tr>\n",
       "      <th>2</th>\n",
       "      <td>1.367921</td>\n",
       "      <td>0.630031</td>\n",
       "      <td>0.323147</td>\n",
       "      <td>0.254130</td>\n",
       "      <td>0.121909</td>\n",
       "      <td>0.784236</td>\n",
       "      <td>-3.946065</td>\n",
       "      <td>-3.503563</td>\n",
       "    </tr>\n",
       "    <tr>\n",
       "      <th>3</th>\n",
       "      <td>0.991897</td>\n",
       "      <td>-1.132599</td>\n",
       "      <td>0.984223</td>\n",
       "      <td>-0.750408</td>\n",
       "      <td>-0.998360</td>\n",
       "      <td>-1.677493</td>\n",
       "      <td>-3.946065</td>\n",
       "      <td>-3.279378</td>\n",
       "    </tr>\n",
       "    <tr>\n",
       "      <th>4</th>\n",
       "      <td>0.700087</td>\n",
       "      <td>-1.054670</td>\n",
       "      <td>-0.906530</td>\n",
       "      <td>0.552023</td>\n",
       "      <td>-1.030460</td>\n",
       "      <td>-0.827868</td>\n",
       "      <td>-3.946065</td>\n",
       "      <td>-3.926965</td>\n",
       "    </tr>\n",
       "    <tr>\n",
       "      <th>5</th>\n",
       "      <td>-0.970832</td>\n",
       "      <td>-1.339127</td>\n",
       "      <td>-0.226155</td>\n",
       "      <td>-1.325462</td>\n",
       "      <td>-1.243622</td>\n",
       "      <td>-1.218592</td>\n",
       "      <td>0.253417</td>\n",
       "      <td>0.593481</td>\n",
       "    </tr>\n",
       "    <tr>\n",
       "      <th>6</th>\n",
       "      <td>-2.389340</td>\n",
       "      <td>-1.561473</td>\n",
       "      <td>-1.231828</td>\n",
       "      <td>-0.760350</td>\n",
       "      <td>-1.366804</td>\n",
       "      <td>-1.518939</td>\n",
       "      <td>0.253417</td>\n",
       "      <td>0.601788</td>\n",
       "    </tr>\n",
       "    <tr>\n",
       "      <th>7</th>\n",
       "      <td>-1.384108</td>\n",
       "      <td>-0.830885</td>\n",
       "      <td>-0.667724</td>\n",
       "      <td>-0.813621</td>\n",
       "      <td>-0.716762</td>\n",
       "      <td>-0.672570</td>\n",
       "      <td>0.253417</td>\n",
       "      <td>0.555516</td>\n",
       "    </tr>\n",
       "    <tr>\n",
       "      <th>8</th>\n",
       "      <td>-0.891409</td>\n",
       "      <td>-0.493614</td>\n",
       "      <td>-0.477680</td>\n",
       "      <td>-0.813529</td>\n",
       "      <td>-0.350438</td>\n",
       "      <td>-0.249160</td>\n",
       "      <td>0.253417</td>\n",
       "      <td>0.586148</td>\n",
       "    </tr>\n",
       "    <tr>\n",
       "      <th>9</th>\n",
       "      <td>-0.291526</td>\n",
       "      <td>0.472664</td>\n",
       "      <td>0.042831</td>\n",
       "      <td>-0.537564</td>\n",
       "      <td>0.838840</td>\n",
       "      <td>0.400302</td>\n",
       "      <td>0.253417</td>\n",
       "      <td>0.272457</td>\n",
       "    </tr>\n",
       "  </tbody>\n",
       "</table>\n",
       "</div>"
      ],
      "text/plain": [
       "   leftear_rightear  snout_tailbase  snout_leftear  snout_rightear  \\\n",
       "0          0.570611        1.565317       0.058997       -0.113856   \n",
       "1         -0.954158       -1.235496      -1.319880        0.068274   \n",
       "2          1.367921        0.630031       0.323147        0.254130   \n",
       "3          0.991897       -1.132599       0.984223       -0.750408   \n",
       "4          0.700087       -1.054670      -0.906530        0.552023   \n",
       "5         -0.970832       -1.339127      -0.226155       -1.325462   \n",
       "6         -2.389340       -1.561473      -1.231828       -0.760350   \n",
       "7         -1.384108       -0.830885      -0.667724       -0.813621   \n",
       "8         -0.891409       -0.493614      -0.477680       -0.813529   \n",
       "9         -0.291526        0.472664       0.042831       -0.537564   \n",
       "\n",
       "   tailbase_leftear  tailbase_rightear  anglesign     angle  \n",
       "0          1.206159           2.390873  -3.946065 -3.561668  \n",
       "1         -1.195405          -0.531509  -3.946065 -3.917617  \n",
       "2          0.121909           0.784236  -3.946065 -3.503563  \n",
       "3         -0.998360          -1.677493  -3.946065 -3.279378  \n",
       "4         -1.030460          -0.827868  -3.946065 -3.926965  \n",
       "5         -1.243622          -1.218592   0.253417  0.593481  \n",
       "6         -1.366804          -1.518939   0.253417  0.601788  \n",
       "7         -0.716762          -0.672570   0.253417  0.555516  \n",
       "8         -0.350438          -0.249160   0.253417  0.586148  \n",
       "9          0.838840           0.400302   0.253417  0.272457  "
      ]
     },
     "execution_count": 342,
     "metadata": {},
     "output_type": "execute_result"
    }
   ],
   "source": [
    "from sklearn.preprocessing import StandardScaler\n",
    "\n",
    "x1 = StandardScaler().fit_transform(features_swapears) # standart scaler\n",
    "features_noise = pd.DataFrame(x1)\n",
    "features_noise.columns = features_swapears.columns\n",
    "\n",
    "features_noise.head(10)"
   ]
  },
  {
   "cell_type": "code",
   "execution_count": 323,
   "id": "1766cfe0",
   "metadata": {},
   "outputs": [
    {
     "data": {
      "text/plain": [
       "'x2 = StandardScaler().fit_transform(df_swap_ears) # standart scaler\\nfeatures_swap_ears = pd.DataFrame(x2)\\nfeatures_swap_ears.columns = df.columns\\nfeatures_swap_ears.head()'"
      ]
     },
     "execution_count": 323,
     "metadata": {},
     "output_type": "execute_result"
    }
   ],
   "source": [
    "'''x2 = StandardScaler().fit_transform(df_swap_ears) # standart scaler\n",
    "features_swap_ears = pd.DataFrame(x2)\n",
    "features_swap_ears.columns = df.columns\n",
    "features_swap_ears.head()'''"
   ]
  },
  {
   "cell_type": "code",
   "execution_count": 324,
   "id": "f7953288-92f1-4a59-a854-1eb5aefcbeb3",
   "metadata": {},
   "outputs": [
    {
     "data": {
      "image/png": "[encoded data removed]",
      "text/plain": [
       "<Figure size 432x288 with 1 Axes>"
      ]
     },
     "metadata": {
      "needs_background": "light"
     },
     "output_type": "display_data"
    }
   ],
   "source": [
    "names = list(range(1, features_swapears.shape[0]+1))\n",
    "plt.scatter(names, features_swapears['anglesign'], alpha=.3, color='green')\n",
    "plt.xlabel('number')\n",
    "plt.ylabel('anglesign')\n",
    "plt.show()"
   ]
  },
  {
   "cell_type": "code",
   "execution_count": 350,
   "id": "c1c9ca2c",
   "metadata": {},
   "outputs": [
    {
     "data": {
      "image/png": "[encoded data removed]",
      "text/plain": [
       "<Figure size 432x288 with 1 Axes>"
      ]
     },
     "metadata": {
      "needs_background": "light"
     },
     "output_type": "display_data"
    }
   ],
   "source": [
    "plt.scatter(names, features_noise[['angle']], alpha=.3, color='gold')\n",
    "plt.xlabel('number')\n",
    "plt.ylabel(['anglesign'])\n",
    "plt.show()"
   ]
  },
  {
   "cell_type": "code",
   "execution_count": null,
   "id": "a25a3f7b",
   "metadata": {},
   "outputs": [],
   "source": []
  },
  {
   "cell_type": "code",
   "execution_count": 351,
   "id": "5d67cc29",
   "metadata": {},
   "outputs": [],
   "source": [
    "from sklearn.decomposition import PCA\n",
    "\n",
    "# PCA Projection to 2D\n",
    "pca = PCA(n_components=2)\n",
    "principalComponents = pca.fit_transform(x1)\n",
    "\n",
    "# Putting components in a dataframe for later\n",
    "PCA_components = pd.DataFrame(principalComponents)"
   ]
  },
  {
   "cell_type": "code",
   "execution_count": 352,
   "id": "379c908c",
   "metadata": {},
   "outputs": [
    {
     "data": {
      "image/png": "[encoded data removed]",
      "text/plain": [
       "<Figure size 432x216 with 1 Axes>"
      ]
     },
     "metadata": {
      "needs_background": "light"
     },
     "output_type": "display_data"
    }
   ],
   "source": [
    "import matplotlib.pyplot as plt\n",
    "\n",
    "# Plotting the variances for each PC\n",
    "PC = range(1, pca.n_components_+1)\n",
    "\n",
    "plt.figure(figsize=(6, 3))\n",
    "plt.bar(PC, pca.explained_variance_ratio_, color='gold')\n",
    "plt.xlabel('Principal Components')\n",
    "plt.ylabel('Variance %')\n",
    "\n",
    "plt.show()"
   ]
  },
  {
   "cell_type": "code",
   "execution_count": 353,
   "id": "f9070ea5",
   "metadata": {},
   "outputs": [
    {
     "data": {
      "image/png": "[encoded data removed]",
      "text/plain": [
       "<Figure size 432x288 with 1 Axes>"
      ]
     },
     "metadata": {
      "needs_background": "light"
     },
     "output_type": "display_data"
    }
   ],
   "source": [
    "plt.scatter(PCA_components[0], PCA_components[1], alpha=.3, color='gold')\n",
    "plt.xlabel('PCA 1')\n",
    "plt.ylabel('PCA 2')\n",
    "plt.show()"
   ]
  },
  {
   "cell_type": "code",
   "execution_count": 354,
   "id": "b557f770",
   "metadata": {},
   "outputs": [
    {
     "data": {
      "text/plain": [
       "array([1, 1, 1, 1, 1, 0, 0, 0, 0, 0, 0, 0, 0, 0, 0, 0, 0, 0, 0, 0, 0, 0,\n",
       "       0, 0, 0, 0, 0, 0, 0, 0, 0, 0, 0, 0, 0, 0, 1, 0, 0, 0, 0, 0, 0, 0,\n",
       "       0, 0, 0, 0, 0, 0, 0, 0, 0, 0, 0, 0, 0, 0, 0, 0, 0, 0, 0, 0, 0, 0,\n",
       "       0, 0, 0, 0, 0, 0, 0, 0, 0, 0, 0, 0, 0, 0, 0, 0, 0, 0, 0, 0, 0, 0,\n",
       "       0, 0, 0, 0, 0, 0, 0, 0, 0, 0, 0, 0, 0, 0, 1, 0, 0, 0, 0, 0, 0, 0,\n",
       "       0, 0, 0, 0, 0, 0])"
      ]
     },
     "execution_count": 354,
     "metadata": {},
     "output_type": "execute_result"
    }
   ],
   "source": [
    "from sklearn.cluster import KMeans\n",
    "\n",
    "model = KMeans(n_clusters=2)\n",
    "model.fit_predict(features_noise[['anglesign', 'angle']])"
   ]
  },
  {
   "cell_type": "code",
   "execution_count": 357,
   "id": "bc6d1fd2",
   "metadata": {},
   "outputs": [
    {
     "data": {
      "image/png": "[encoded data removed]",
      "text/plain": [
       "<Figure size 432x288 with 1 Axes>"
      ]
     },
     "metadata": {
      "needs_background": "light"
     },
     "output_type": "display_data"
    }
   ],
   "source": [
    "labels = model.labels_\n",
    "plt.scatter(features_noise[['angle']], features_noise[['anglesign']], c=labels)\n",
    "plot_ind(features_noise,labels,1)\n",
    "#plt.annotate(np.where(labels==0),  PCA_components.loc[(labels==0),0], PCA_components.loc[(labels==0),1])\n",
    "plt.show()"
   ]
  },
  {
   "cell_type": "code",
   "execution_count": 335,
   "id": "fdf1789f",
   "metadata": {},
   "outputs": [
    {
     "data": {
      "text/plain": [
       "'\\nDensity-Based Spatial Clustering of Applications with Noise (DBSCAN)\\n\\nThe main concept of DBSCAN algorithm is to locate regions of high density \\nthat are separated from one another by regions of low density \\n\\n'"
      ]
     },
     "execution_count": 335,
     "metadata": {},
     "output_type": "execute_result"
    }
   ],
   "source": [
    "'''\n",
    "Density-Based Spatial Clustering of Applications with Noise (DBSCAN)\n",
    "\n",
    "The main concept of DBSCAN algorithm is to locate regions of high density \n",
    "that are separated from one another by regions of low density \n",
    "\n",
    "'''"
   ]
  },
  {
   "cell_type": "code",
   "execution_count": 336,
   "id": "dec6381f",
   "metadata": {},
   "outputs": [],
   "source": [
    "def show_clusters(X, cluster):\n",
    "    df = X\n",
    "    df.loc[:,'label'] = cluster\n",
    "    colors = {-1: 'red', 0: 'blue', 1:'orange', 2:'green', 3:'yellow', 4:'black', 5:'gold', 6:'lightblue', 7:'darkgreen'}\n",
    "    fig, ax = plt.subplots(figsize=(8,8))\n",
    "    grouped = df.groupby('label')\n",
    "    for key, group in grouped:\n",
    "        group.plot(ax=ax, kind='scatter', x=0, y=1, label=key, color=colors[key])\n",
    "    plt.xlabel('x')\n",
    "    plt.ylabel('y')\n",
    "    plt.show()\n",
    "    #, 1:'orange', 2:'green', 3:'yellow'"
   ]
  },
  {
   "cell_type": "code",
   "execution_count": 337,
   "id": "fefaedb0-b9bb-4aa3-9bad-3592d4a1e24e",
   "metadata": {},
   "outputs": [],
   "source": [
    "from sklearn.cluster import DBSCAN\n",
    "\n",
    "# min_samples = the minimum number of core points needed in order to form a cluster\n",
    "# eps = the maximum distance between two samples for them to be considered as in the same cluster\n",
    "\n",
    "dbscan=DBSCAN(eps = 3.5, min_samples = 3)\n",
    "\n",
    "# fit - perform DBSCAN clustering from features, or distance matrix.\n",
    "dbscan = dbscan.fit(PCA_components)"
   ]
  },
  {
   "cell_type": "code",
   "execution_count": 338,
   "id": "8e8dab41",
   "metadata": {},
   "outputs": [
    {
     "data": {
      "text/plain": [
       "3"
      ]
     },
     "execution_count": 338,
     "metadata": {},
     "output_type": "execute_result"
    }
   ],
   "source": [
    "cluster = dbscan.labels_\n",
    "len(set(cluster))"
   ]
  },
  {
   "cell_type": "code",
   "execution_count": 339,
   "id": "52d642a9",
   "metadata": {},
   "outputs": [
    {
     "data": {
      "image/png": "[encoded data removed]",
      "text/plain": [
       "<Figure size 576x576 with 1 Axes>"
      ]
     },
     "metadata": {
      "needs_background": "light"
     },
     "output_type": "display_data"
    }
   ],
   "source": [
    "show_clusters(PCA_components, cluster)"
   ]
  },
  {
   "cell_type": "code",
   "execution_count": 280,
   "id": "8e9a49e6",
   "metadata": {},
   "outputs": [
    {
     "data": {
      "text/html": [
       "<div>\n",
       "<style scoped>\n",
       "    .dataframe tbody tr th:only-of-type {\n",
       "        vertical-align: middle;\n",
       "    }\n",
       "\n",
       "    .dataframe tbody tr th {\n",
       "        vertical-align: top;\n",
       "    }\n",
       "\n",
       "    .dataframe thead th {\n",
       "        text-align: right;\n",
       "    }\n",
       "</style>\n",
       "<table border=\"1\" class=\"dataframe\">\n",
       "  <thead>\n",
       "    <tr style=\"text-align: right;\">\n",
       "      <th></th>\n",
       "      <th>leftear_rightear</th>\n",
       "      <th>snout_tailbase</th>\n",
       "      <th>snout_leftear</th>\n",
       "      <th>snout_rightear</th>\n",
       "      <th>tailbase_leftear</th>\n",
       "      <th>tailbase_rightear</th>\n",
       "      <th>anglesign</th>\n",
       "      <th>angle</th>\n",
       "      <th>label</th>\n",
       "    </tr>\n",
       "  </thead>\n",
       "  <tbody>\n",
       "    <tr>\n",
       "      <th>0</th>\n",
       "      <td>0.570611</td>\n",
       "      <td>1.565317</td>\n",
       "      <td>0.058997</td>\n",
       "      <td>-0.113856</td>\n",
       "      <td>1.206159</td>\n",
       "      <td>2.390873</td>\n",
       "      <td>-3.946065</td>\n",
       "      <td>-3.561668</td>\n",
       "      <td>0</td>\n",
       "    </tr>\n",
       "    <tr>\n",
       "      <th>1</th>\n",
       "      <td>-0.954158</td>\n",
       "      <td>-1.235496</td>\n",
       "      <td>-1.319880</td>\n",
       "      <td>0.068274</td>\n",
       "      <td>-1.195405</td>\n",
       "      <td>-0.531509</td>\n",
       "      <td>-3.946065</td>\n",
       "      <td>-3.917617</td>\n",
       "      <td>0</td>\n",
       "    </tr>\n",
       "    <tr>\n",
       "      <th>2</th>\n",
       "      <td>1.367921</td>\n",
       "      <td>0.630031</td>\n",
       "      <td>0.323147</td>\n",
       "      <td>0.254130</td>\n",
       "      <td>0.121909</td>\n",
       "      <td>0.784236</td>\n",
       "      <td>-3.946065</td>\n",
       "      <td>-3.503563</td>\n",
       "      <td>0</td>\n",
       "    </tr>\n",
       "    <tr>\n",
       "      <th>3</th>\n",
       "      <td>0.991897</td>\n",
       "      <td>-1.132599</td>\n",
       "      <td>0.984223</td>\n",
       "      <td>-0.750408</td>\n",
       "      <td>-0.998360</td>\n",
       "      <td>-1.677493</td>\n",
       "      <td>-3.946065</td>\n",
       "      <td>-3.279378</td>\n",
       "      <td>0</td>\n",
       "    </tr>\n",
       "    <tr>\n",
       "      <th>4</th>\n",
       "      <td>0.700087</td>\n",
       "      <td>-1.054670</td>\n",
       "      <td>-0.906530</td>\n",
       "      <td>0.552023</td>\n",
       "      <td>-1.030460</td>\n",
       "      <td>-0.827868</td>\n",
       "      <td>-3.946065</td>\n",
       "      <td>-3.926965</td>\n",
       "      <td>0</td>\n",
       "    </tr>\n",
       "    <tr>\n",
       "      <th>5</th>\n",
       "      <td>-0.970832</td>\n",
       "      <td>-1.339127</td>\n",
       "      <td>-0.226155</td>\n",
       "      <td>-1.325462</td>\n",
       "      <td>-1.243622</td>\n",
       "      <td>-1.218592</td>\n",
       "      <td>0.253417</td>\n",
       "      <td>0.593481</td>\n",
       "      <td>1</td>\n",
       "    </tr>\n",
       "    <tr>\n",
       "      <th>6</th>\n",
       "      <td>-2.389340</td>\n",
       "      <td>-1.561473</td>\n",
       "      <td>-1.231828</td>\n",
       "      <td>-0.760350</td>\n",
       "      <td>-1.366804</td>\n",
       "      <td>-1.518939</td>\n",
       "      <td>0.253417</td>\n",
       "      <td>0.601788</td>\n",
       "      <td>1</td>\n",
       "    </tr>\n",
       "  </tbody>\n",
       "</table>\n",
       "</div>"
      ],
      "text/plain": [
       "   leftear_rightear  snout_tailbase  snout_leftear  snout_rightear  \\\n",
       "0          0.570611        1.565317       0.058997       -0.113856   \n",
       "1         -0.954158       -1.235496      -1.319880        0.068274   \n",
       "2          1.367921        0.630031       0.323147        0.254130   \n",
       "3          0.991897       -1.132599       0.984223       -0.750408   \n",
       "4          0.700087       -1.054670      -0.906530        0.552023   \n",
       "5         -0.970832       -1.339127      -0.226155       -1.325462   \n",
       "6         -2.389340       -1.561473      -1.231828       -0.760350   \n",
       "\n",
       "   tailbase_leftear  tailbase_rightear  anglesign     angle  label  \n",
       "0          1.206159           2.390873  -3.946065 -3.561668      0  \n",
       "1         -1.195405          -0.531509  -3.946065 -3.917617      0  \n",
       "2          0.121909           0.784236  -3.946065 -3.503563      0  \n",
       "3         -0.998360          -1.677493  -3.946065 -3.279378      0  \n",
       "4         -1.030460          -0.827868  -3.946065 -3.926965      0  \n",
       "5         -1.243622          -1.218592   0.253417  0.593481      1  \n",
       "6         -1.366804          -1.518939   0.253417  0.601788      1  "
      ]
     },
     "execution_count": 280,
     "metadata": {},
     "output_type": "execute_result"
    }
   ],
   "source": [
    "features_noise.loc[0:6,:]"
   ]
  },
  {
   "cell_type": "code",
   "execution_count": 281,
   "id": "7cc7295f",
   "metadata": {},
   "outputs": [
    {
     "data": {
      "text/plain": [
       "6"
      ]
     },
     "execution_count": 281,
     "metadata": {},
     "output_type": "execute_result"
    }
   ],
   "source": [
    "(features_noise['label'] == 0).sum()"
   ]
  },
  {
   "cell_type": "code",
   "execution_count": 282,
   "id": "86f493ae",
   "metadata": {},
   "outputs": [
    {
     "data": {
      "text/plain": [
       "1"
      ]
     },
     "execution_count": 282,
     "metadata": {},
     "output_type": "execute_result"
    }
   ],
   "source": [
    "(features_noise['label'] == -1).sum()"
   ]
  },
  {
   "cell_type": "code",
   "execution_count": 283,
   "id": "ee2743ee",
   "metadata": {},
   "outputs": [
    {
     "name": "stdout",
     "output_type": "stream",
     "text": [
      "0      0\n",
      "1      0\n",
      "2      0\n",
      "3      0\n",
      "4      0\n",
      "102    0\n",
      "Name: label, dtype: int64\n",
      "36   -1\n",
      "Name: label, dtype: int64\n"
     ]
    }
   ],
   "source": [
    "print(features_noise.loc[(features_noise['label'] == 0),'label'])\n",
    "print(features_noise.loc[(features_noise['label'] == -1),'label'])"
   ]
  },
  {
   "cell_type": "code",
   "execution_count": 115,
   "id": "ba6f88be",
   "metadata": {},
   "outputs": [],
   "source": [
    "from sklearn.manifold import MDS\n",
    "from matplotlib import pyplot as plt\n",
    "import sklearn.datasets as dt\n",
    "import seaborn as sns         \n",
    "import numpy as np\n",
    "from sklearn.metrics.pairwise import manhattan_distances, euclidean_distances\n",
    "from matplotlib.offsetbox import OffsetImage, AnnotationBbox"
   ]
  },
  {
   "cell_type": "code",
   "execution_count": 105,
   "id": "dc315004",
   "metadata": {},
   "outputs": [],
   "source": [
    "mds = MDS(random_state=0)\n",
    "X_transform = mds.fit_transform(x1)\n"
   ]
  },
  {
   "cell_type": "code",
   "execution_count": 106,
   "id": "0e10cc45",
   "metadata": {},
   "outputs": [
    {
     "name": "stdout",
     "output_type": "stream",
     "text": [
      "2993.64125678587\n"
     ]
    }
   ],
   "source": [
    "stress = mds.stress_\n",
    "print(stress)"
   ]
  },
  {
   "cell_type": "code",
   "execution_count": 108,
   "id": "97bb309b",
   "metadata": {},
   "outputs": [],
   "source": [
    "dist_manhattan = manhattan_distances(x1)\n",
    "mds = MDS(dissimilarity='precomputed', random_state=0)\n",
    "# Get the embeddings\n",
    "X_transform_L1 = mds.fit_transform(dist_manhattan)"
   ]
  },
  {
   "cell_type": "code",
   "execution_count": 113,
   "id": "dd678cb0",
   "metadata": {},
   "outputs": [
    {
     "data": {
      "image/png": "[encoded data removed]",
      "text/plain": [
       "<Figure size 720x288 with 2 Axes>"
      ]
     },
     "metadata": {
      "needs_background": "light"
     },
     "output_type": "display_data"
    }
   ],
   "source": [
    "\n",
    "fig = plt.figure(2, (10,4))\n",
    "ax = fig.add_subplot(121, projection='3d')\n",
    "plt.scatter(x1[:,0], x1[:,1], zs=x1[:,3],s=64, c='green')\n",
    "plt.title('Original Points')\n",
    "\n",
    "ax = fig.add_subplot(122)\n",
    "plt.scatter(X_transform[:,0], X_transform[:,1], c='green')\n",
    "plt.title('Embedding in 2D')\n",
    "fig.subplots_adjust(wspace=.4, hspace=0.5)\n",
    "plt.show()"
   ]
  },
  {
   "cell_type": "code",
   "execution_count": null,
   "id": "122e71b7",
   "metadata": {},
   "outputs": [],
   "source": []
  }
 ],
 "metadata": {
  "kernelspec": {
   "display_name": "Python 3",
   "language": "python",
   "name": "python3"
  },
  "language_info": {
   "codemirror_mode": {
    "name": "ipython",
    "version": 3
   },
   "file_extension": ".py",
   "mimetype": "text/x-python",
   "name": "python",
   "nbconvert_exporter": "python",
   "pygments_lexer": "ipython3",
   "version": "3.8.8"
  }
 },
 "nbformat": 4,
 "nbformat_minor": 5
}
