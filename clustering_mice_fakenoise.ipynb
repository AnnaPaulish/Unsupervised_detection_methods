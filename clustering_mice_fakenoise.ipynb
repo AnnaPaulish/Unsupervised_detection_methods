{
 "cells": [
  {
   "cell_type": "code",
   "execution_count": 259,
   "id": "3ae6e8c8-d62a-4b4d-950c-3a10e9839163",
   "metadata": {},
   "outputs": [],
   "source": [
    "import numpy as np\n",
    "import pandas as pd\n",
    "import matplotlib.pyplot as plt"
   ]
  },
  {
   "cell_type": "code",
   "execution_count": 260,
   "id": "3fd24a9c",
   "metadata": {},
   "outputs": [],
   "source": [
    "def read_data(url, header):\n",
    "    df = pd.read_csv(url, header=header, index_col=0)\n",
    "    return df"
   ]
  },
  {
   "cell_type": "code",
   "execution_count": 281,
   "id": "ba0955fa",
   "metadata": {},
   "outputs": [],
   "source": [
    "def add_noise(df,scorer,bodypart,coord,n):\n",
    "    df.loc[filenames[:n],(scorer, bodypart, coord)] = df.loc[filenames[:n],(scorer, bodypart, coord)] + np.mean(df.loc[:,(scorer, bodypart, coord)])\n",
    "    return df"
   ]
  },
  {
   "cell_type": "code",
   "execution_count": 262,
   "id": "008ef7e5",
   "metadata": {},
   "outputs": [],
   "source": [
    "def swap_ears(df,df_fake,scorer,n):\n",
    "    df_fake.loc[filenames[:n],(scorer, 'leftear', 'x')] = df.loc[filenames[:n],(scorer, 'rightear', 'x')]\n",
    "    df_fake.loc[filenames[:n],(scorer, 'leftear', 'y')] = df.loc[filenames[:n],(scorer, 'rightear', 'y')]\n",
    "    \n",
    "    df_fake.loc[filenames[:n],(scorer, 'rightear', 'x')] = df.loc[filenames[:n],(scorer, 'leftear', 'x')]\n",
    "    df_fake.loc[filenames[:n],(scorer, 'rightear', 'y')] = df.loc[filenames[:n],(scorer, 'leftear', 'y')]\n",
    "    return df_fake"
   ]
  },
  {
   "cell_type": "code",
   "execution_count": 263,
   "id": "5fe0fec9",
   "metadata": {},
   "outputs": [
    {
     "data": {
      "text/html": [
       "<div>\n",
       "<style scoped>\n",
       "    .dataframe tbody tr th:only-of-type {\n",
       "        vertical-align: middle;\n",
       "    }\n",
       "\n",
       "    .dataframe tbody tr th {\n",
       "        vertical-align: top;\n",
       "    }\n",
       "\n",
       "    .dataframe thead tr th {\n",
       "        text-align: left;\n",
       "    }\n",
       "</style>\n",
       "<table border=\"1\" class=\"dataframe\">\n",
       "  <thead>\n",
       "    <tr>\n",
       "      <th>scorer</th>\n",
       "      <th colspan=\"8\" halign=\"left\">Pranav</th>\n",
       "    </tr>\n",
       "    <tr>\n",
       "      <th>bodyparts</th>\n",
       "      <th colspan=\"2\" halign=\"left\">snout</th>\n",
       "      <th colspan=\"2\" halign=\"left\">leftear</th>\n",
       "      <th colspan=\"2\" halign=\"left\">rightear</th>\n",
       "      <th colspan=\"2\" halign=\"left\">tailbase</th>\n",
       "    </tr>\n",
       "    <tr>\n",
       "      <th>coords</th>\n",
       "      <th>x</th>\n",
       "      <th>y</th>\n",
       "      <th>x</th>\n",
       "      <th>y</th>\n",
       "      <th>x</th>\n",
       "      <th>y</th>\n",
       "      <th>x</th>\n",
       "      <th>y</th>\n",
       "    </tr>\n",
       "  </thead>\n",
       "  <tbody>\n",
       "    <tr>\n",
       "      <th>labeled-data/m4s1/img0000.png</th>\n",
       "      <td>21.521</td>\n",
       "      <td>265.428</td>\n",
       "      <td>33.819</td>\n",
       "      <td>265.941</td>\n",
       "      <td>19.984</td>\n",
       "      <td>250.056</td>\n",
       "      <td>87.110</td>\n",
       "      <td>152.698</td>\n",
       "    </tr>\n",
       "    <tr>\n",
       "      <th>labeled-data/m4s1/img0001.png</th>\n",
       "      <td>10.248</td>\n",
       "      <td>288.487</td>\n",
       "      <td>19.984</td>\n",
       "      <td>297.198</td>\n",
       "      <td>12.298</td>\n",
       "      <td>281.313</td>\n",
       "      <td>95.821</td>\n",
       "      <td>221.361</td>\n",
       "    </tr>\n",
       "    <tr>\n",
       "      <th>labeled-data/m4s1/img0002.png</th>\n",
       "      <td>24.596</td>\n",
       "      <td>354.075</td>\n",
       "      <td>38.431</td>\n",
       "      <td>354.075</td>\n",
       "      <td>23.058</td>\n",
       "      <td>337.166</td>\n",
       "      <td>99.408</td>\n",
       "      <td>256.205</td>\n",
       "    </tr>\n",
       "    <tr>\n",
       "      <th>labeled-data/m4s1/img0003.png</th>\n",
       "      <td>73.787</td>\n",
       "      <td>374.572</td>\n",
       "      <td>78.911</td>\n",
       "      <td>366.373</td>\n",
       "      <td>57.390</td>\n",
       "      <td>361.761</td>\n",
       "      <td>106.581</td>\n",
       "      <td>270.040</td>\n",
       "    </tr>\n",
       "    <tr>\n",
       "      <th>labeled-data/m4s1/img0004.png</th>\n",
       "      <td>38.431</td>\n",
       "      <td>333.066</td>\n",
       "      <td>50.729</td>\n",
       "      <td>341.777</td>\n",
       "      <td>39.968</td>\n",
       "      <td>323.331</td>\n",
       "      <td>131.177</td>\n",
       "      <td>273.627</td>\n",
       "    </tr>\n",
       "    <tr>\n",
       "      <th>...</th>\n",
       "      <td>...</td>\n",
       "      <td>...</td>\n",
       "      <td>...</td>\n",
       "      <td>...</td>\n",
       "      <td>...</td>\n",
       "      <td>...</td>\n",
       "      <td>...</td>\n",
       "      <td>...</td>\n",
       "    </tr>\n",
       "    <tr>\n",
       "      <th>labeled-data/m4s1/img0111.png</th>\n",
       "      <td>30.745</td>\n",
       "      <td>65.588</td>\n",
       "      <td>35.356</td>\n",
       "      <td>79.424</td>\n",
       "      <td>42.530</td>\n",
       "      <td>60.977</td>\n",
       "      <td>138.863</td>\n",
       "      <td>97.870</td>\n",
       "    </tr>\n",
       "    <tr>\n",
       "      <th>labeled-data/m4s1/img0112.png</th>\n",
       "      <td>29.207</td>\n",
       "      <td>104.532</td>\n",
       "      <td>36.894</td>\n",
       "      <td>109.143</td>\n",
       "      <td>36.894</td>\n",
       "      <td>89.672</td>\n",
       "      <td>143.987</td>\n",
       "      <td>89.159</td>\n",
       "    </tr>\n",
       "    <tr>\n",
       "      <th>labeled-data/m4s1/img0113.png</th>\n",
       "      <td>30.232</td>\n",
       "      <td>188.567</td>\n",
       "      <td>39.968</td>\n",
       "      <td>181.393</td>\n",
       "      <td>27.670</td>\n",
       "      <td>167.046</td>\n",
       "      <td>112.218</td>\n",
       "      <td>96.845</td>\n",
       "    </tr>\n",
       "    <tr>\n",
       "      <th>labeled-data/m4s1/img0114.png</th>\n",
       "      <td>26.645</td>\n",
       "      <td>262.354</td>\n",
       "      <td>38.431</td>\n",
       "      <td>262.354</td>\n",
       "      <td>24.596</td>\n",
       "      <td>248.519</td>\n",
       "      <td>84.548</td>\n",
       "      <td>155.773</td>\n",
       "    </tr>\n",
       "    <tr>\n",
       "      <th>labeled-data/m4s1/img0115.png</th>\n",
       "      <td>65.588</td>\n",
       "      <td>321.281</td>\n",
       "      <td>72.250</td>\n",
       "      <td>312.058</td>\n",
       "      <td>52.778</td>\n",
       "      <td>306.934</td>\n",
       "      <td>92.746</td>\n",
       "      <td>192.154</td>\n",
       "    </tr>\n",
       "  </tbody>\n",
       "</table>\n",
       "<p>116 rows × 8 columns</p>\n",
       "</div>"
      ],
      "text/plain": [
       "scorer                         Pranav                                     \\\n",
       "bodyparts                       snout          leftear          rightear   \n",
       "coords                              x        y       x        y        x   \n",
       "labeled-data/m4s1/img0000.png  21.521  265.428  33.819  265.941   19.984   \n",
       "labeled-data/m4s1/img0001.png  10.248  288.487  19.984  297.198   12.298   \n",
       "labeled-data/m4s1/img0002.png  24.596  354.075  38.431  354.075   23.058   \n",
       "labeled-data/m4s1/img0003.png  73.787  374.572  78.911  366.373   57.390   \n",
       "labeled-data/m4s1/img0004.png  38.431  333.066  50.729  341.777   39.968   \n",
       "...                               ...      ...     ...      ...      ...   \n",
       "labeled-data/m4s1/img0111.png  30.745   65.588  35.356   79.424   42.530   \n",
       "labeled-data/m4s1/img0112.png  29.207  104.532  36.894  109.143   36.894   \n",
       "labeled-data/m4s1/img0113.png  30.232  188.567  39.968  181.393   27.670   \n",
       "labeled-data/m4s1/img0114.png  26.645  262.354  38.431  262.354   24.596   \n",
       "labeled-data/m4s1/img0115.png  65.588  321.281  72.250  312.058   52.778   \n",
       "\n",
       "scorer                                                    \n",
       "bodyparts                              tailbase           \n",
       "coords                               y        x        y  \n",
       "labeled-data/m4s1/img0000.png  250.056   87.110  152.698  \n",
       "labeled-data/m4s1/img0001.png  281.313   95.821  221.361  \n",
       "labeled-data/m4s1/img0002.png  337.166   99.408  256.205  \n",
       "labeled-data/m4s1/img0003.png  361.761  106.581  270.040  \n",
       "labeled-data/m4s1/img0004.png  323.331  131.177  273.627  \n",
       "...                                ...      ...      ...  \n",
       "labeled-data/m4s1/img0111.png   60.977  138.863   97.870  \n",
       "labeled-data/m4s1/img0112.png   89.672  143.987   89.159  \n",
       "labeled-data/m4s1/img0113.png  167.046  112.218   96.845  \n",
       "labeled-data/m4s1/img0114.png  248.519   84.548  155.773  \n",
       "labeled-data/m4s1/img0115.png  306.934   92.746  192.154  \n",
       "\n",
       "[116 rows x 8 columns]"
      ]
     },
     "execution_count": 263,
     "metadata": {},
     "output_type": "execute_result"
    }
   ],
   "source": [
    "url = 'https://raw.githubusercontent.com/DeepLabCut/DeepLabCut/master/examples/openfield-Pranav-2018-10-30/labeled-data/m4s1/CollectedData_Pranav.csv'\n",
    "header = [0, 1, 2] ### if multi-animal project, header = [0, 1, 2, 3]\n",
    "\n",
    "df = read_data(url, header)\n",
    "df"
   ]
  },
  {
   "cell_type": "code",
   "execution_count": 291,
   "id": "078c7ba5",
   "metadata": {},
   "outputs": [],
   "source": [
    "# adding fake data\n",
    "df_fake = df.copy(deep=True)\n",
    "filenames = df_fake.index\n",
    "scorer = 'Pranav'\n",
    "bodypart = 'snout'\n",
    "n = 5 # 5 pictures with bad labels"
   ]
  },
  {
   "cell_type": "code",
   "execution_count": 292,
   "id": "567033a6",
   "metadata": {},
   "outputs": [
    {
     "data": {
      "text/html": [
       "<div>\n",
       "<style scoped>\n",
       "    .dataframe tbody tr th:only-of-type {\n",
       "        vertical-align: middle;\n",
       "    }\n",
       "\n",
       "    .dataframe tbody tr th {\n",
       "        vertical-align: top;\n",
       "    }\n",
       "\n",
       "    .dataframe thead tr th {\n",
       "        text-align: left;\n",
       "    }\n",
       "</style>\n",
       "<table border=\"1\" class=\"dataframe\">\n",
       "  <thead>\n",
       "    <tr>\n",
       "      <th>scorer</th>\n",
       "      <th colspan=\"8\" halign=\"left\">Pranav</th>\n",
       "    </tr>\n",
       "    <tr>\n",
       "      <th>bodyparts</th>\n",
       "      <th colspan=\"2\" halign=\"left\">snout</th>\n",
       "      <th colspan=\"2\" halign=\"left\">leftear</th>\n",
       "      <th colspan=\"2\" halign=\"left\">rightear</th>\n",
       "      <th colspan=\"2\" halign=\"left\">tailbase</th>\n",
       "    </tr>\n",
       "    <tr>\n",
       "      <th>coords</th>\n",
       "      <th>x</th>\n",
       "      <th>y</th>\n",
       "      <th>x</th>\n",
       "      <th>y</th>\n",
       "      <th>x</th>\n",
       "      <th>y</th>\n",
       "      <th>x</th>\n",
       "      <th>y</th>\n",
       "    </tr>\n",
       "  </thead>\n",
       "  <tbody>\n",
       "    <tr>\n",
       "      <th>labeled-data/m4s1/img0000.png</th>\n",
       "      <td>78.910922</td>\n",
       "      <td>530.882879</td>\n",
       "      <td>33.819</td>\n",
       "      <td>265.941</td>\n",
       "      <td>19.984</td>\n",
       "      <td>250.056</td>\n",
       "      <td>87.110</td>\n",
       "      <td>152.698</td>\n",
       "    </tr>\n",
       "    <tr>\n",
       "      <th>labeled-data/m4s1/img0001.png</th>\n",
       "      <td>67.637922</td>\n",
       "      <td>553.941879</td>\n",
       "      <td>19.984</td>\n",
       "      <td>297.198</td>\n",
       "      <td>12.298</td>\n",
       "      <td>281.313</td>\n",
       "      <td>95.821</td>\n",
       "      <td>221.361</td>\n",
       "    </tr>\n",
       "    <tr>\n",
       "      <th>labeled-data/m4s1/img0002.png</th>\n",
       "      <td>81.985922</td>\n",
       "      <td>619.529879</td>\n",
       "      <td>38.431</td>\n",
       "      <td>354.075</td>\n",
       "      <td>23.058</td>\n",
       "      <td>337.166</td>\n",
       "      <td>99.408</td>\n",
       "      <td>256.205</td>\n",
       "    </tr>\n",
       "    <tr>\n",
       "      <th>labeled-data/m4s1/img0003.png</th>\n",
       "      <td>131.176922</td>\n",
       "      <td>640.026879</td>\n",
       "      <td>78.911</td>\n",
       "      <td>366.373</td>\n",
       "      <td>57.390</td>\n",
       "      <td>361.761</td>\n",
       "      <td>106.581</td>\n",
       "      <td>270.040</td>\n",
       "    </tr>\n",
       "    <tr>\n",
       "      <th>labeled-data/m4s1/img0004.png</th>\n",
       "      <td>95.820922</td>\n",
       "      <td>598.520879</td>\n",
       "      <td>50.729</td>\n",
       "      <td>341.777</td>\n",
       "      <td>39.968</td>\n",
       "      <td>323.331</td>\n",
       "      <td>131.177</td>\n",
       "      <td>273.627</td>\n",
       "    </tr>\n",
       "  </tbody>\n",
       "</table>\n",
       "</div>"
      ],
      "text/plain": [
       "scorer                             Pranav                               \\\n",
       "bodyparts                           snout             leftear            \n",
       "coords                                  x           y       x        y   \n",
       "labeled-data/m4s1/img0000.png   78.910922  530.882879  33.819  265.941   \n",
       "labeled-data/m4s1/img0001.png   67.637922  553.941879  19.984  297.198   \n",
       "labeled-data/m4s1/img0002.png   81.985922  619.529879  38.431  354.075   \n",
       "labeled-data/m4s1/img0003.png  131.176922  640.026879  78.911  366.373   \n",
       "labeled-data/m4s1/img0004.png   95.820922  598.520879  50.729  341.777   \n",
       "\n",
       "scorer                                                             \n",
       "bodyparts                     rightear          tailbase           \n",
       "coords                               x        y        x        y  \n",
       "labeled-data/m4s1/img0000.png   19.984  250.056   87.110  152.698  \n",
       "labeled-data/m4s1/img0001.png   12.298  281.313   95.821  221.361  \n",
       "labeled-data/m4s1/img0002.png   23.058  337.166   99.408  256.205  \n",
       "labeled-data/m4s1/img0003.png   57.390  361.761  106.581  270.040  \n",
       "labeled-data/m4s1/img0004.png   39.968  323.331  131.177  273.627  "
      ]
     },
     "execution_count": 292,
     "metadata": {},
     "output_type": "execute_result"
    }
   ],
   "source": [
    "# add random noise\n",
    "df_fake_noise = add_noise(df_fake,scorer,bodypart,'x',n)\n",
    "df_fake_noise = add_noise(df_fake,scorer,bodypart,'y',n)\n",
    "df_fake_noise.head()"
   ]
  },
  {
   "cell_type": "code",
   "execution_count": 295,
   "id": "0fb21146",
   "metadata": {},
   "outputs": [
    {
     "data": {
      "text/html": [
       "<div>\n",
       "<style scoped>\n",
       "    .dataframe tbody tr th:only-of-type {\n",
       "        vertical-align: middle;\n",
       "    }\n",
       "\n",
       "    .dataframe tbody tr th {\n",
       "        vertical-align: top;\n",
       "    }\n",
       "\n",
       "    .dataframe thead th {\n",
       "        text-align: right;\n",
       "    }\n",
       "</style>\n",
       "<table border=\"1\" class=\"dataframe\">\n",
       "  <thead>\n",
       "    <tr style=\"text-align: right;\">\n",
       "      <th></th>\n",
       "      <th>ears</th>\n",
       "      <th>tailbase_snout</th>\n",
       "    </tr>\n",
       "  </thead>\n",
       "  <tbody>\n",
       "    <tr>\n",
       "      <th>labeled-data/m4s1/img0000.png</th>\n",
       "      <td>21.065148</td>\n",
       "      <td>378.273747</td>\n",
       "    </tr>\n",
       "    <tr>\n",
       "      <th>labeled-data/m4s1/img0001.png</th>\n",
       "      <td>17.646751</td>\n",
       "      <td>333.772868</td>\n",
       "    </tr>\n",
       "    <tr>\n",
       "      <th>labeled-data/m4s1/img0002.png</th>\n",
       "      <td>22.852646</td>\n",
       "      <td>363.742349</td>\n",
       "    </tr>\n",
       "    <tr>\n",
       "      <th>labeled-data/m4s1/img0003.png</th>\n",
       "      <td>22.009634</td>\n",
       "      <td>370.803520</td>\n",
       "    </tr>\n",
       "    <tr>\n",
       "      <th>labeled-data/m4s1/img0004.png</th>\n",
       "      <td>21.355422</td>\n",
       "      <td>326.812003</td>\n",
       "    </tr>\n",
       "  </tbody>\n",
       "</table>\n",
       "</div>"
      ],
      "text/plain": [
       "                                    ears  tailbase_snout\n",
       "labeled-data/m4s1/img0000.png  21.065148      378.273747\n",
       "labeled-data/m4s1/img0001.png  17.646751      333.772868\n",
       "labeled-data/m4s1/img0002.png  22.852646      363.742349\n",
       "labeled-data/m4s1/img0003.png  22.009634      370.803520\n",
       "labeled-data/m4s1/img0004.png  21.355422      326.812003"
      ]
     },
     "execution_count": 295,
     "metadata": {},
     "output_type": "execute_result"
    }
   ],
   "source": [
    "df_features = pd.DataFrame()\n",
    "\n",
    "df_features['ears'] = np.sqrt(np.square(df_fake_noise.loc[:,(scorer, 'leftear', 'x')] - df_fake_noise.loc[:,(scorer, 'rightear', 'x')])+np.square(df_fake_noise.loc[:,(scorer, 'leftear', 'y')] - df_fake_noise.loc[:,(scorer, 'rightear', 'y')])) \n",
    "df_features['tailbase_snout'] = np.sqrt(np.square(df_fake_noise.loc[:,(scorer, 'snout', 'x')] - df_fake_noise.loc[:,(scorer, 'tailbase', 'x')])+np.square(df_fake_noise.loc[:,(scorer, 'snout', 'y')] - df_fake_noise.loc[:,(scorer, 'tailbase', 'y')])) \n",
    "\n",
    "df_features.head()"
   ]
  },
  {
   "cell_type": "code",
   "execution_count": 212,
   "id": "cbeeff2e",
   "metadata": {},
   "outputs": [
    {
     "data": {
      "text/html": [
       "<div>\n",
       "<style scoped>\n",
       "    .dataframe tbody tr th:only-of-type {\n",
       "        vertical-align: middle;\n",
       "    }\n",
       "\n",
       "    .dataframe tbody tr th {\n",
       "        vertical-align: top;\n",
       "    }\n",
       "\n",
       "    .dataframe thead tr th {\n",
       "        text-align: left;\n",
       "    }\n",
       "</style>\n",
       "<table border=\"1\" class=\"dataframe\">\n",
       "  <thead>\n",
       "    <tr>\n",
       "      <th>scorer</th>\n",
       "      <th colspan=\"8\" halign=\"left\">Pranav</th>\n",
       "    </tr>\n",
       "    <tr>\n",
       "      <th>bodyparts</th>\n",
       "      <th colspan=\"2\" halign=\"left\">snout</th>\n",
       "      <th colspan=\"2\" halign=\"left\">leftear</th>\n",
       "      <th colspan=\"2\" halign=\"left\">rightear</th>\n",
       "      <th colspan=\"2\" halign=\"left\">tailbase</th>\n",
       "    </tr>\n",
       "    <tr>\n",
       "      <th>coords</th>\n",
       "      <th>x</th>\n",
       "      <th>y</th>\n",
       "      <th>x</th>\n",
       "      <th>y</th>\n",
       "      <th>x</th>\n",
       "      <th>y</th>\n",
       "      <th>x</th>\n",
       "      <th>y</th>\n",
       "    </tr>\n",
       "  </thead>\n",
       "  <tbody>\n",
       "    <tr>\n",
       "      <th>labeled-data/m4s1/img0000.png</th>\n",
       "      <td>21.521</td>\n",
       "      <td>265.428</td>\n",
       "      <td>19.984</td>\n",
       "      <td>250.056</td>\n",
       "      <td>33.819</td>\n",
       "      <td>265.941</td>\n",
       "      <td>87.110</td>\n",
       "      <td>152.698</td>\n",
       "    </tr>\n",
       "    <tr>\n",
       "      <th>labeled-data/m4s1/img0001.png</th>\n",
       "      <td>10.248</td>\n",
       "      <td>288.487</td>\n",
       "      <td>12.298</td>\n",
       "      <td>281.313</td>\n",
       "      <td>19.984</td>\n",
       "      <td>297.198</td>\n",
       "      <td>95.821</td>\n",
       "      <td>221.361</td>\n",
       "    </tr>\n",
       "    <tr>\n",
       "      <th>labeled-data/m4s1/img0002.png</th>\n",
       "      <td>24.596</td>\n",
       "      <td>354.075</td>\n",
       "      <td>23.058</td>\n",
       "      <td>337.166</td>\n",
       "      <td>38.431</td>\n",
       "      <td>354.075</td>\n",
       "      <td>99.408</td>\n",
       "      <td>256.205</td>\n",
       "    </tr>\n",
       "    <tr>\n",
       "      <th>labeled-data/m4s1/img0003.png</th>\n",
       "      <td>73.787</td>\n",
       "      <td>374.572</td>\n",
       "      <td>57.390</td>\n",
       "      <td>361.761</td>\n",
       "      <td>78.911</td>\n",
       "      <td>366.373</td>\n",
       "      <td>106.581</td>\n",
       "      <td>270.040</td>\n",
       "    </tr>\n",
       "    <tr>\n",
       "      <th>labeled-data/m4s1/img0004.png</th>\n",
       "      <td>38.431</td>\n",
       "      <td>333.066</td>\n",
       "      <td>39.968</td>\n",
       "      <td>323.331</td>\n",
       "      <td>50.729</td>\n",
       "      <td>341.777</td>\n",
       "      <td>131.177</td>\n",
       "      <td>273.627</td>\n",
       "    </tr>\n",
       "  </tbody>\n",
       "</table>\n",
       "</div>"
      ],
      "text/plain": [
       "scorer                         Pranav                                     \\\n",
       "bodyparts                       snout          leftear          rightear   \n",
       "coords                              x        y       x        y        x   \n",
       "labeled-data/m4s1/img0000.png  21.521  265.428  19.984  250.056   33.819   \n",
       "labeled-data/m4s1/img0001.png  10.248  288.487  12.298  281.313   19.984   \n",
       "labeled-data/m4s1/img0002.png  24.596  354.075  23.058  337.166   38.431   \n",
       "labeled-data/m4s1/img0003.png  73.787  374.572  57.390  361.761   78.911   \n",
       "labeled-data/m4s1/img0004.png  38.431  333.066  39.968  323.331   50.729   \n",
       "\n",
       "scorer                                                    \n",
       "bodyparts                              tailbase           \n",
       "coords                               y        x        y  \n",
       "labeled-data/m4s1/img0000.png  265.941   87.110  152.698  \n",
       "labeled-data/m4s1/img0001.png  297.198   95.821  221.361  \n",
       "labeled-data/m4s1/img0002.png  354.075   99.408  256.205  \n",
       "labeled-data/m4s1/img0003.png  366.373  106.581  270.040  \n",
       "labeled-data/m4s1/img0004.png  341.777  131.177  273.627  "
      ]
     },
     "execution_count": 212,
     "metadata": {},
     "output_type": "execute_result"
    }
   ],
   "source": [
    "#swap ears\n",
    "'''df_swap_ears = swap_ears(df,df_fake,scorer,n)\n",
    "df_swap_ears.head()'''"
   ]
  },
  {
   "cell_type": "code",
   "execution_count": 297,
   "id": "a469eb61",
   "metadata": {},
   "outputs": [
    {
     "data": {
      "text/html": [
       "<div>\n",
       "<style scoped>\n",
       "    .dataframe tbody tr th:only-of-type {\n",
       "        vertical-align: middle;\n",
       "    }\n",
       "\n",
       "    .dataframe tbody tr th {\n",
       "        vertical-align: top;\n",
       "    }\n",
       "\n",
       "    .dataframe thead th {\n",
       "        text-align: right;\n",
       "    }\n",
       "</style>\n",
       "<table border=\"1\" class=\"dataframe\">\n",
       "  <thead>\n",
       "    <tr style=\"text-align: right;\">\n",
       "      <th></th>\n",
       "      <th>ears</th>\n",
       "      <th>tailbase_snout</th>\n",
       "    </tr>\n",
       "  </thead>\n",
       "  <tbody>\n",
       "    <tr>\n",
       "      <th>0</th>\n",
       "      <td>0.570611</td>\n",
       "      <td>5.121125</td>\n",
       "    </tr>\n",
       "    <tr>\n",
       "      <th>1</th>\n",
       "      <td>-0.954158</td>\n",
       "      <td>4.208409</td>\n",
       "    </tr>\n",
       "    <tr>\n",
       "      <th>2</th>\n",
       "      <td>1.367921</td>\n",
       "      <td>4.823085</td>\n",
       "    </tr>\n",
       "    <tr>\n",
       "      <th>3</th>\n",
       "      <td>0.991897</td>\n",
       "      <td>4.967910</td>\n",
       "    </tr>\n",
       "    <tr>\n",
       "      <th>4</th>\n",
       "      <td>0.700087</td>\n",
       "      <td>4.065641</td>\n",
       "    </tr>\n",
       "  </tbody>\n",
       "</table>\n",
       "</div>"
      ],
      "text/plain": [
       "       ears  tailbase_snout\n",
       "0  0.570611        5.121125\n",
       "1 -0.954158        4.208409\n",
       "2  1.367921        4.823085\n",
       "3  0.991897        4.967910\n",
       "4  0.700087        4.065641"
      ]
     },
     "execution_count": 297,
     "metadata": {},
     "output_type": "execute_result"
    }
   ],
   "source": [
    "from sklearn.preprocessing import StandardScaler\n",
    "\n",
    "x1 = StandardScaler().fit_transform(df_features) # standart scaler\n",
    "features_noise = pd.DataFrame(x1)\n",
    "features_noise.columns = df_features.columns\n",
    "\n",
    "features_noise.head()"
   ]
  },
  {
   "cell_type": "code",
   "execution_count": 275,
   "id": "1766cfe0",
   "metadata": {},
   "outputs": [
    {
     "data": {
      "text/plain": [
       "'x2 = StandardScaler().fit_transform(df_swap_ears) # standart scaler\\nfeatures_swap_ears = pd.DataFrame(x2)\\nfeatures_swap_ears.columns = df.columns\\nfeatures_swap_ears.head()'"
      ]
     },
     "execution_count": 275,
     "metadata": {},
     "output_type": "execute_result"
    }
   ],
   "source": [
    "'''x2 = StandardScaler().fit_transform(df_swap_ears) # standart scaler\n",
    "features_swap_ears = pd.DataFrame(x2)\n",
    "features_swap_ears.columns = df.columns\n",
    "features_swap_ears.head()'''"
   ]
  },
  {
   "cell_type": "code",
   "execution_count": 296,
   "id": "f7953288-92f1-4a59-a854-1eb5aefcbeb3",
   "metadata": {},
   "outputs": [
    {
     "data": {
      "image/png": "[encoded data removed]",
      "text/plain": [
       "<Figure size 640x480 with 1 Axes>"
      ]
     },
     "metadata": {},
     "output_type": "display_data"
    }
   ],
   "source": [
    "names = list(range(1, df_features.shape[0]+1))\n",
    "plt.scatter(names, df_features['tailbase_snout'], alpha=.3, color='green')\n",
    "plt.xlabel('number')\n",
    "plt.ylabel('tailbase_snout')\n",
    "plt.show()"
   ]
  },
  {
   "cell_type": "code",
   "execution_count": 301,
   "id": "c1c9ca2c",
   "metadata": {},
   "outputs": [
    {
     "data": {
      "image/png": "[encoded data removed]",
      "text/plain": [
       "<Figure size 640x480 with 1 Axes>"
      ]
     },
     "metadata": {},
     "output_type": "display_data"
    }
   ],
   "source": [
    "plt.scatter(names, features_noise[['tailbase_snout']], alpha=.3, color='gold')\n",
    "plt.xlabel('number')\n",
    "plt.ylabel(['tailbase_snout'])\n",
    "plt.show()"
   ]
  },
  {
   "cell_type": "code",
   "execution_count": 302,
   "id": "b557f770",
   "metadata": {},
   "outputs": [
    {
     "data": {
      "image/png": "[encoded data removed]",
      "text/plain": [
       "<Figure size 640x480 with 1 Axes>"
      ]
     },
     "metadata": {},
     "output_type": "display_data"
    }
   ],
   "source": [
    "from sklearn.cluster import KMeans\n",
    "\n",
    "model = KMeans(n_clusters=2)\n",
    "model.fit(features_noise.iloc[:,:2])\n",
    "\n",
    "labels = model.predict(features_noise.iloc[:,:2])\n",
    "plt.scatter(features_noise['ears'], features_noise['tailbase_snout'], c=labels)\n",
    "plt.show()\n"
   ]
  },
  {
   "cell_type": "code",
   "execution_count": 69,
   "id": "fdf1789f",
   "metadata": {},
   "outputs": [
    {
     "data": {
      "text/plain": [
       "'\\nDensity-Based Spatial Clustering of Applications with Noise (DBSCAN)\\n\\nThe main concept of DBSCAN algorithm is to locate regions of high density \\nthat are separated from one another by regions of low density \\n\\n'"
      ]
     },
     "execution_count": 69,
     "metadata": {},
     "output_type": "execute_result"
    }
   ],
   "source": [
    "'''\n",
    "Density-Based Spatial Clustering of Applications with Noise (DBSCAN)\n",
    "\n",
    "The main concept of DBSCAN algorithm is to locate regions of high density \n",
    "that are separated from one another by regions of low density \n",
    "\n",
    "'''"
   ]
  },
  {
   "cell_type": "code",
   "execution_count": 415,
   "id": "dec6381f",
   "metadata": {},
   "outputs": [],
   "source": [
    "def show_clusters(X, cluster):\n",
    "    df = X\n",
    "    df.loc[:,'label'] = cluster\n",
    "    colors = {-1: 'red', 0: 'blue', 1:'orange', 2:'green', 3:'yellow', 4:'black', 5:'gold', 6:'lightblue', 7:'darkgreen'}\n",
    "    fig, ax = plt.subplots(figsize=(8,8))\n",
    "    grouped = df.groupby('label')\n",
    "    for key, group in grouped:\n",
    "        group.plot(ax=ax, kind='scatter', x=0, y=1, label=key, color=colors[key])\n",
    "    plt.xlabel('x_1')\n",
    "    plt.ylabel('x_2')\n",
    "    plt.show()\n",
    "    #, 1:'orange', 2:'green', 3:'yellow'"
   ]
  },
  {
   "cell_type": "code",
   "execution_count": 509,
   "id": "fefaedb0-b9bb-4aa3-9bad-3592d4a1e24e",
   "metadata": {},
   "outputs": [],
   "source": [
    "from sklearn.cluster import DBSCAN\n",
    "\n",
    "# min_samples = the minimum number of core points needed in order to form a cluster\n",
    "# eps = the maximum distance between two samples for them to be considered as in the same cluster\n",
    "\n",
    "dbscan=DBSCAN(eps = 0.9, min_samples = 6)\n",
    "\n",
    "# fit - perform DBSCAN clustering from features, or distance matrix.\n",
    "dbscan = dbscan.fit(features_noise)"
   ]
  },
  {
   "cell_type": "code",
   "execution_count": 510,
   "id": "8e8dab41",
   "metadata": {},
   "outputs": [
    {
     "data": {
      "text/plain": [
       "2"
      ]
     },
     "execution_count": 510,
     "metadata": {},
     "output_type": "execute_result"
    }
   ],
   "source": [
    "cluster = dbscan.labels_\n",
    "len(set(cluster))"
   ]
  },
  {
   "cell_type": "code",
   "execution_count": 511,
   "id": "52d642a9",
   "metadata": {},
   "outputs": [
    {
     "data": {
      "image/png": "[encoded data removed]",
      "text/plain": [
       "<Figure size 800x800 with 1 Axes>"
      ]
     },
     "metadata": {},
     "output_type": "display_data"
    }
   ],
   "source": [
    "show_clusters(features_noise, cluster)"
   ]
  },
  {
   "cell_type": "code",
   "execution_count": 512,
   "id": "8e9a49e6",
   "metadata": {},
   "outputs": [
    {
     "data": {
      "text/html": [
       "<div>\n",
       "<style scoped>\n",
       "    .dataframe tbody tr th:only-of-type {\n",
       "        vertical-align: middle;\n",
       "    }\n",
       "\n",
       "    .dataframe tbody tr th {\n",
       "        vertical-align: top;\n",
       "    }\n",
       "\n",
       "    .dataframe thead th {\n",
       "        text-align: right;\n",
       "    }\n",
       "</style>\n",
       "<table border=\"1\" class=\"dataframe\">\n",
       "  <thead>\n",
       "    <tr style=\"text-align: right;\">\n",
       "      <th></th>\n",
       "      <th>ears</th>\n",
       "      <th>tailbase_snout</th>\n",
       "      <th>labels</th>\n",
       "      <th>label</th>\n",
       "    </tr>\n",
       "  </thead>\n",
       "  <tbody>\n",
       "    <tr>\n",
       "      <th>0</th>\n",
       "      <td>0.570611</td>\n",
       "      <td>5.121125</td>\n",
       "      <td>-1</td>\n",
       "      <td>-1</td>\n",
       "    </tr>\n",
       "    <tr>\n",
       "      <th>1</th>\n",
       "      <td>-0.954158</td>\n",
       "      <td>4.208409</td>\n",
       "      <td>-1</td>\n",
       "      <td>-1</td>\n",
       "    </tr>\n",
       "    <tr>\n",
       "      <th>2</th>\n",
       "      <td>1.367921</td>\n",
       "      <td>4.823085</td>\n",
       "      <td>-1</td>\n",
       "      <td>-1</td>\n",
       "    </tr>\n",
       "    <tr>\n",
       "      <th>3</th>\n",
       "      <td>0.991897</td>\n",
       "      <td>4.967910</td>\n",
       "      <td>-1</td>\n",
       "      <td>-1</td>\n",
       "    </tr>\n",
       "    <tr>\n",
       "      <th>4</th>\n",
       "      <td>0.700087</td>\n",
       "      <td>4.065641</td>\n",
       "      <td>-1</td>\n",
       "      <td>-1</td>\n",
       "    </tr>\n",
       "  </tbody>\n",
       "</table>\n",
       "</div>"
      ],
      "text/plain": [
       "       ears  tailbase_snout  labels  label\n",
       "0  0.570611        5.121125      -1     -1\n",
       "1 -0.954158        4.208409      -1     -1\n",
       "2  1.367921        4.823085      -1     -1\n",
       "3  0.991897        4.967910      -1     -1\n",
       "4  0.700087        4.065641      -1     -1"
      ]
     },
     "execution_count": 512,
     "metadata": {},
     "output_type": "execute_result"
    }
   ],
   "source": [
    "features_noise['labels'] = dbscan.labels_\n",
    "features_noise.head()"
   ]
  },
  {
   "cell_type": "code",
   "execution_count": 513,
   "id": "7cc7295f",
   "metadata": {},
   "outputs": [
    {
     "data": {
      "text/plain": [
       "5"
      ]
     },
     "execution_count": 513,
     "metadata": {},
     "output_type": "execute_result"
    }
   ],
   "source": [
    "(features_noise['labels'] == -1).sum()"
   ]
  },
  {
   "cell_type": "code",
   "execution_count": null,
   "id": "ba6f88be",
   "metadata": {},
   "outputs": [],
   "source": []
  }
 ],
 "metadata": {
  "kernelspec": {
   "display_name": "Python 3",
   "language": "python",
   "name": "python3"
  },
  "language_info": {
   "codemirror_mode": {
    "name": "ipython",
    "version": 3
   },
   "file_extension": ".py",
   "mimetype": "text/x-python",
   "name": "python",
   "nbconvert_exporter": "python",
   "pygments_lexer": "ipython3",
   "version": "3.8.8"
  }
 },
 "nbformat": 4,
 "nbformat_minor": 5
}
